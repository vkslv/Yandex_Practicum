{
 "cells": [
  {
   "cell_type": "code",
   "execution_count": 1,
   "metadata": {
    "colab": {
     "base_uri": "https://localhost:8080/"
    },
    "id": "JXc9DyO1SUzy",
    "outputId": "f27fef2a-a2f6-4f4b-8e8b-0e3b7e2e6778"
   },
   "outputs": [
    {
     "name": "stdout",
     "output_type": "stream",
     "text": [
      "Requirement already satisfied: catboost in c:\\anaconda3\\lib\\site-packages (1.1.1)\n",
      "Requirement already satisfied: plotly in c:\\anaconda3\\lib\\site-packages (from catboost) (5.9.0)\n",
      "Requirement already satisfied: pandas>=0.24.0 in c:\\anaconda3\\lib\\site-packages (from catboost) (1.4.4)\n",
      "Requirement already satisfied: six in c:\\anaconda3\\lib\\site-packages (from catboost) (1.16.0)\n",
      "Requirement already satisfied: matplotlib in c:\\anaconda3\\lib\\site-packages (from catboost) (3.5.2)\n",
      "Requirement already satisfied: numpy>=1.16.0 in c:\\anaconda3\\lib\\site-packages (from catboost) (1.21.5)\n",
      "Requirement already satisfied: scipy in c:\\users\\vk\\appdata\\roaming\\python\\python39\\site-packages (from catboost) (1.8.1)\n",
      "Requirement already satisfied: graphviz in c:\\anaconda3\\lib\\site-packages (from catboost) (0.20.1)\n",
      "Requirement already satisfied: pytz>=2020.1 in c:\\anaconda3\\lib\\site-packages (from pandas>=0.24.0->catboost) (2022.1)\n",
      "Requirement already satisfied: python-dateutil>=2.8.1 in c:\\anaconda3\\lib\\site-packages (from pandas>=0.24.0->catboost) (2.8.2)\n",
      "Requirement already satisfied: pyparsing>=2.2.1 in c:\\anaconda3\\lib\\site-packages (from matplotlib->catboost) (3.0.9)\n",
      "Requirement already satisfied: kiwisolver>=1.0.1 in c:\\anaconda3\\lib\\site-packages (from matplotlib->catboost) (1.4.2)\n",
      "Requirement already satisfied: packaging>=20.0 in c:\\anaconda3\\lib\\site-packages (from matplotlib->catboost) (21.3)\n",
      "Requirement already satisfied: pillow>=6.2.0 in c:\\anaconda3\\lib\\site-packages (from matplotlib->catboost) (9.2.0)\n",
      "Requirement already satisfied: fonttools>=4.22.0 in c:\\anaconda3\\lib\\site-packages (from matplotlib->catboost) (4.25.0)\n",
      "Requirement already satisfied: cycler>=0.10 in c:\\anaconda3\\lib\\site-packages (from matplotlib->catboost) (0.11.0)\n",
      "Requirement already satisfied: tenacity>=6.2.0 in c:\\anaconda3\\lib\\site-packages (from plotly->catboost) (8.0.1)\n"
     ]
    },
    {
     "name": "stderr",
     "output_type": "stream",
     "text": [
      "\n",
      "[notice] A new release of pip available: 22.3.1 -> 23.1\n",
      "[notice] To update, run: python.exe -m pip install --upgrade pip\n"
     ]
    }
   ],
   "source": [
    "!pip install catboost"
   ]
  },
  {
   "cell_type": "code",
   "execution_count": 2,
   "metadata": {
    "colab": {
     "base_uri": "https://localhost:8080/"
    },
    "id": "-KewUWJ9Be8K",
    "outputId": "f18c7fde-2869-4cd9-bcf6-b0a672bae61a"
   },
   "outputs": [
    {
     "name": "stdout",
     "output_type": "stream",
     "text": [
      "Requirement already satisfied: lightgbm in c:\\anaconda3\\lib\\site-packages (3.3.5)\n",
      "Requirement already satisfied: scipy in c:\\users\\vk\\appdata\\roaming\\python\\python39\\site-packages (from lightgbm) (1.8.1)\n",
      "Requirement already satisfied: scikit-learn!=0.22.0 in c:\\anaconda3\\lib\\site-packages (from lightgbm) (1.0.2)\n",
      "Requirement already satisfied: wheel in c:\\anaconda3\\lib\\site-packages (from lightgbm) (0.37.1)\n",
      "Requirement already satisfied: numpy in c:\\anaconda3\\lib\\site-packages (from lightgbm) (1.21.5)\n",
      "Requirement already satisfied: joblib>=0.11 in c:\\anaconda3\\lib\\site-packages (from scikit-learn!=0.22.0->lightgbm) (1.1.0)\n",
      "Requirement already satisfied: threadpoolctl>=2.0.0 in c:\\anaconda3\\lib\\site-packages (from scikit-learn!=0.22.0->lightgbm) (2.2.0)\n"
     ]
    },
    {
     "name": "stderr",
     "output_type": "stream",
     "text": [
      "\n",
      "[notice] A new release of pip available: 22.3.1 -> 23.1\n",
      "[notice] To update, run: python.exe -m pip install --upgrade pip\n"
     ]
    }
   ],
   "source": [
    "!pip install lightgbm"
   ]
  },
  {
   "cell_type": "markdown",
   "metadata": {
    "id": "v-IevXibFm5s"
   },
   "source": [
    "# Описание проекта\n"
   ]
  },
  {
   "cell_type": "markdown",
   "metadata": {
    "id": "Qet6-bLlS7_z"
   },
   "source": [
    "Оператор связи «Ниединогоразрыва.ком» хочет научиться прогнозировать отток клиентов. Если выяснится, что пользователь планирует уйти, ему будут предложены промокоды и специальные условия. Команда оператора собрала персональные данные о некоторых клиентах, информацию об их тарифах и договорах."
   ]
  },
  {
   "cell_type": "markdown",
   "metadata": {
    "id": "Mahpf8ZGFqQh"
   },
   "source": [
    "## Описание данных\n"
   ]
  },
  {
   "cell_type": "markdown",
   "metadata": {
    "id": "BArqUuwqTBq3"
   },
   "source": [
    "\n",
    "Данные состоят из файлов, полученных из разных источников:\n",
    "\n",
    "- `contract_new.csv` — информация о договоре;\n",
    "- `personal_new.csv` — персональные данные клиента;\n",
    "- `internet_new.csv` — информация об интернет-услугах;\n",
    "- `phone_new.csv` — информация об услугах телефонии.\n",
    "\n",
    "Во всех файлах столбец `customerID` содержит код клиента.\n",
    "\n",
    "Информация о договорах актуальна на 1 февраля 2020."
   ]
  },
  {
   "cell_type": "markdown",
   "metadata": {
    "id": "StWYxWzuQ7cV"
   },
   "source": [
    "## План проекта"
   ]
  },
  {
   "cell_type": "markdown",
   "metadata": {
    "id": "X93jyO0tSqQB"
   },
   "source": [
    "1. Первым делом необходимо изучить данные, проверить на наличие пропусков, неправильные типы данных и т.д.\n",
    "\n",
    "2. Далее подготовить данные. Изучить выбросы и аномалии, при необходимости, отчистить данные от них.\n",
    "\n",
    "3. Визуализировать полученные результаты и сделать выводы.\n",
    "\n",
    "4. Обучить несколько моделей с подобранными параметрами и выбрать среди них наилучшую.\n",
    "\n",
    "5. Протестировать модель с лучшим показателем метрики и сделать выводы по итогам работы.\n",
    "\n",
    "6. Провести анализ лучшей модели (важность признаков и матрица ошибок)"
   ]
  },
  {
   "cell_type": "markdown",
   "metadata": {
    "id": "9fWPkCKgSECL"
   },
   "source": [
    "## Цель проекта"
   ]
  },
  {
   "cell_type": "markdown",
   "metadata": {
    "id": "IX3Ka0wRSmYF"
   },
   "source": [
    "Необходимо разработать модель, которая позволит прогнозировать отток клиентов для того, чтобы компания могла вовремя попытаться удержать клиента.\n"
   ]
  },
  {
   "cell_type": "markdown",
   "metadata": {
    "id": "jfVXWGEzGsU3"
   },
   "source": [
    "---"
   ]
  },
  {
   "cell_type": "markdown",
   "metadata": {
    "id": "EIWRUX1QTMsq"
   },
   "source": [
    "# Импорты"
   ]
  },
  {
   "cell_type": "code",
   "execution_count": 3,
   "metadata": {
    "id": "JZ6QiV71GRuS"
   },
   "outputs": [],
   "source": [
    "import pandas as pd\n",
    "import numpy as np\n",
    "import matplotlib.pyplot as plt\n",
    "import scipy.stats as stats\n",
    "import warnings\n",
    "\n",
    "from IPython.display import display\n",
    "from sklearn.preprocessing import StandardScaler, OneHotEncoder\n",
    "from sklearn.model_selection import train_test_split, GridSearchCV\n",
    "from sklearn.utils import shuffle\n",
    "from sklearn.metrics import roc_auc_score, accuracy_score, confusion_matrix, ConfusionMatrixDisplay\n",
    "from sklearn.ensemble import RandomForestClassifier\n",
    "from catboost import CatBoostClassifier\n",
    "from sklearn.model_selection import cross_val_score\n",
    "from sklearn.model_selection import RepeatedStratifiedKFold\n",
    "from lightgbm import LGBMClassifier\n",
    "\n",
    "size = (14,6)\n",
    "RANDOM_STATE = 100423\n",
    "warnings.filterwarnings(\"ignore\")"
   ]
  },
  {
   "cell_type": "markdown",
   "metadata": {
    "id": "WdWZNeN4HIeb"
   },
   "source": [
    "---"
   ]
  },
  {
   "cell_type": "markdown",
   "metadata": {
    "id": "KxSVTupUTQfX"
   },
   "source": [
    "# Функции"
   ]
  },
  {
   "cell_type": "code",
   "execution_count": 4,
   "metadata": {
    "id": "Q5WCgPifIcpi"
   },
   "outputs": [],
   "source": [
    "def analysis(data):\n",
    "  display(data.head())\n",
    "  print()\n",
    "  data.info()\n",
    "  print()\n",
    "  display(data.describe())\n",
    "\n",
    "def upsample(features, target, repeat):\n",
    "    features_zeros = features[target == 0]\n",
    "    features_ones = features[target == 1]\n",
    "    target_zeros = target[target == 0]\n",
    "    target_ones = target[target == 1]\n",
    "\n",
    "    features_upsampled = pd.concat([features_zeros] + [features_ones] * repeat)\n",
    "    target_upsampled = pd.concat([target_zeros] + [target_ones] * repeat)\n",
    "    \n",
    "    features_upsampled, target_upsampled = shuffle(\n",
    "        features_upsampled, target_upsampled, random_state=RANDOM_STATE)\n",
    "    \n",
    "    return features_upsampled, target_upsampled"
   ]
  },
  {
   "cell_type": "markdown",
   "metadata": {
    "id": "0FC1laXWPMw6"
   },
   "source": [
    "---"
   ]
  },
  {
   "cell_type": "markdown",
   "metadata": {
    "id": "Nu_PeHrlQah3"
   },
   "source": [
    "# Исследовательский анализ данных"
   ]
  },
  {
   "cell_type": "code",
   "execution_count": 5,
   "metadata": {
    "id": "2draQv_uHFPf"
   },
   "outputs": [],
   "source": [
    "contract = pd.read_csv('https://code.s3.yandex.net/datasets/contract_new.csv',  index_col=['customerID'])\n",
    "personal = pd.read_csv('https://code.s3.yandex.net/datasets/personal_new.csv',  index_col=['customerID'])\n",
    "internet = pd.read_csv('https://code.s3.yandex.net/datasets/internet_new.csv',  index_col=['customerID'])\n",
    "phone = pd.read_csv('https://code.s3.yandex.net/datasets/phone_new.csv',  index_col=['customerID'])"
   ]
  },
  {
   "cell_type": "markdown",
   "metadata": {
    "id": "F9L9fLs4QdSK"
   },
   "source": [
    "## Первичное изучение данных"
   ]
  },
  {
   "cell_type": "code",
   "execution_count": 6,
   "metadata": {
    "colab": {
     "base_uri": "https://localhost:8080/",
     "height": 1000
    },
    "id": "kyxaO4pUHW2W",
    "outputId": "70bfcaed-b90e-41c8-c558-a3de4ccb9d84"
   },
   "outputs": [
    {
     "data": {
      "text/html": [
       "<div>\n",
       "<style scoped>\n",
       "    .dataframe tbody tr th:only-of-type {\n",
       "        vertical-align: middle;\n",
       "    }\n",
       "\n",
       "    .dataframe tbody tr th {\n",
       "        vertical-align: top;\n",
       "    }\n",
       "\n",
       "    .dataframe thead th {\n",
       "        text-align: right;\n",
       "    }\n",
       "</style>\n",
       "<table border=\"1\" class=\"dataframe\">\n",
       "  <thead>\n",
       "    <tr style=\"text-align: right;\">\n",
       "      <th></th>\n",
       "      <th>BeginDate</th>\n",
       "      <th>EndDate</th>\n",
       "      <th>Type</th>\n",
       "      <th>PaperlessBilling</th>\n",
       "      <th>PaymentMethod</th>\n",
       "      <th>MonthlyCharges</th>\n",
       "      <th>TotalCharges</th>\n",
       "    </tr>\n",
       "    <tr>\n",
       "      <th>customerID</th>\n",
       "      <th></th>\n",
       "      <th></th>\n",
       "      <th></th>\n",
       "      <th></th>\n",
       "      <th></th>\n",
       "      <th></th>\n",
       "      <th></th>\n",
       "    </tr>\n",
       "  </thead>\n",
       "  <tbody>\n",
       "    <tr>\n",
       "      <th>7590-VHVEG</th>\n",
       "      <td>2020-01-01</td>\n",
       "      <td>No</td>\n",
       "      <td>Month-to-month</td>\n",
       "      <td>Yes</td>\n",
       "      <td>Electronic check</td>\n",
       "      <td>29.85</td>\n",
       "      <td>31.04</td>\n",
       "    </tr>\n",
       "    <tr>\n",
       "      <th>5575-GNVDE</th>\n",
       "      <td>2017-04-01</td>\n",
       "      <td>No</td>\n",
       "      <td>One year</td>\n",
       "      <td>No</td>\n",
       "      <td>Mailed check</td>\n",
       "      <td>56.95</td>\n",
       "      <td>2071.84</td>\n",
       "    </tr>\n",
       "    <tr>\n",
       "      <th>3668-QPYBK</th>\n",
       "      <td>2019-10-01</td>\n",
       "      <td>No</td>\n",
       "      <td>Month-to-month</td>\n",
       "      <td>Yes</td>\n",
       "      <td>Mailed check</td>\n",
       "      <td>53.85</td>\n",
       "      <td>226.17</td>\n",
       "    </tr>\n",
       "    <tr>\n",
       "      <th>7795-CFOCW</th>\n",
       "      <td>2016-05-01</td>\n",
       "      <td>No</td>\n",
       "      <td>One year</td>\n",
       "      <td>No</td>\n",
       "      <td>Bank transfer (automatic)</td>\n",
       "      <td>42.30</td>\n",
       "      <td>1960.6</td>\n",
       "    </tr>\n",
       "    <tr>\n",
       "      <th>9237-HQITU</th>\n",
       "      <td>2019-09-01</td>\n",
       "      <td>No</td>\n",
       "      <td>Month-to-month</td>\n",
       "      <td>Yes</td>\n",
       "      <td>Electronic check</td>\n",
       "      <td>70.70</td>\n",
       "      <td>353.5</td>\n",
       "    </tr>\n",
       "  </tbody>\n",
       "</table>\n",
       "</div>"
      ],
      "text/plain": [
       "             BeginDate EndDate            Type PaperlessBilling  \\\n",
       "customerID                                                        \n",
       "7590-VHVEG  2020-01-01      No  Month-to-month              Yes   \n",
       "5575-GNVDE  2017-04-01      No        One year               No   \n",
       "3668-QPYBK  2019-10-01      No  Month-to-month              Yes   \n",
       "7795-CFOCW  2016-05-01      No        One year               No   \n",
       "9237-HQITU  2019-09-01      No  Month-to-month              Yes   \n",
       "\n",
       "                        PaymentMethod  MonthlyCharges TotalCharges  \n",
       "customerID                                                          \n",
       "7590-VHVEG           Electronic check           29.85        31.04  \n",
       "5575-GNVDE               Mailed check           56.95      2071.84  \n",
       "3668-QPYBK               Mailed check           53.85       226.17  \n",
       "7795-CFOCW  Bank transfer (automatic)           42.30       1960.6  \n",
       "9237-HQITU           Electronic check           70.70        353.5  "
      ]
     },
     "metadata": {},
     "output_type": "display_data"
    },
    {
     "name": "stdout",
     "output_type": "stream",
     "text": [
      "\n",
      "<class 'pandas.core.frame.DataFrame'>\n",
      "Index: 7043 entries, 7590-VHVEG to 3186-AJIEK\n",
      "Data columns (total 7 columns):\n",
      " #   Column            Non-Null Count  Dtype  \n",
      "---  ------            --------------  -----  \n",
      " 0   BeginDate         7043 non-null   object \n",
      " 1   EndDate           7043 non-null   object \n",
      " 2   Type              7043 non-null   object \n",
      " 3   PaperlessBilling  7043 non-null   object \n",
      " 4   PaymentMethod     7043 non-null   object \n",
      " 5   MonthlyCharges    7043 non-null   float64\n",
      " 6   TotalCharges      7043 non-null   object \n",
      "dtypes: float64(1), object(6)\n",
      "memory usage: 440.2+ KB\n",
      "\n"
     ]
    },
    {
     "data": {
      "text/html": [
       "<div>\n",
       "<style scoped>\n",
       "    .dataframe tbody tr th:only-of-type {\n",
       "        vertical-align: middle;\n",
       "    }\n",
       "\n",
       "    .dataframe tbody tr th {\n",
       "        vertical-align: top;\n",
       "    }\n",
       "\n",
       "    .dataframe thead th {\n",
       "        text-align: right;\n",
       "    }\n",
       "</style>\n",
       "<table border=\"1\" class=\"dataframe\">\n",
       "  <thead>\n",
       "    <tr style=\"text-align: right;\">\n",
       "      <th></th>\n",
       "      <th>MonthlyCharges</th>\n",
       "    </tr>\n",
       "  </thead>\n",
       "  <tbody>\n",
       "    <tr>\n",
       "      <th>count</th>\n",
       "      <td>7043.000000</td>\n",
       "    </tr>\n",
       "    <tr>\n",
       "      <th>mean</th>\n",
       "      <td>64.761692</td>\n",
       "    </tr>\n",
       "    <tr>\n",
       "      <th>std</th>\n",
       "      <td>30.090047</td>\n",
       "    </tr>\n",
       "    <tr>\n",
       "      <th>min</th>\n",
       "      <td>18.250000</td>\n",
       "    </tr>\n",
       "    <tr>\n",
       "      <th>25%</th>\n",
       "      <td>35.500000</td>\n",
       "    </tr>\n",
       "    <tr>\n",
       "      <th>50%</th>\n",
       "      <td>70.350000</td>\n",
       "    </tr>\n",
       "    <tr>\n",
       "      <th>75%</th>\n",
       "      <td>89.850000</td>\n",
       "    </tr>\n",
       "    <tr>\n",
       "      <th>max</th>\n",
       "      <td>118.750000</td>\n",
       "    </tr>\n",
       "  </tbody>\n",
       "</table>\n",
       "</div>"
      ],
      "text/plain": [
       "       MonthlyCharges\n",
       "count     7043.000000\n",
       "mean        64.761692\n",
       "std         30.090047\n",
       "min         18.250000\n",
       "25%         35.500000\n",
       "50%         70.350000\n",
       "75%         89.850000\n",
       "max        118.750000"
      ]
     },
     "metadata": {},
     "output_type": "display_data"
    }
   ],
   "source": [
    "analysis(contract)"
   ]
  },
  {
   "cell_type": "markdown",
   "metadata": {
    "id": "pyiZcU5NJslY"
   },
   "source": [
    "**Вывод по** `contract_new.csv`\n",
    "\n",
    "- Структура данных состоит из 8 колонок и 7043 строк\n",
    "- Пропусков в данных не наблюдается\n",
    "- Необходимо изменить тип данных в следующих колонках: `BeginDate`, `EndDate`, `MonthlyCharges`, `TotalCharges`"
   ]
  },
  {
   "cell_type": "code",
   "execution_count": 7,
   "metadata": {
    "colab": {
     "base_uri": "https://localhost:8080/",
     "height": 897
    },
    "id": "QEhEGmN9Mufl",
    "outputId": "e5a8c60e-944f-4075-cdc7-b39816fe0872"
   },
   "outputs": [
    {
     "data": {
      "text/html": [
       "<div>\n",
       "<style scoped>\n",
       "    .dataframe tbody tr th:only-of-type {\n",
       "        vertical-align: middle;\n",
       "    }\n",
       "\n",
       "    .dataframe tbody tr th {\n",
       "        vertical-align: top;\n",
       "    }\n",
       "\n",
       "    .dataframe thead th {\n",
       "        text-align: right;\n",
       "    }\n",
       "</style>\n",
       "<table border=\"1\" class=\"dataframe\">\n",
       "  <thead>\n",
       "    <tr style=\"text-align: right;\">\n",
       "      <th></th>\n",
       "      <th>gender</th>\n",
       "      <th>SeniorCitizen</th>\n",
       "      <th>Partner</th>\n",
       "      <th>Dependents</th>\n",
       "    </tr>\n",
       "    <tr>\n",
       "      <th>customerID</th>\n",
       "      <th></th>\n",
       "      <th></th>\n",
       "      <th></th>\n",
       "      <th></th>\n",
       "    </tr>\n",
       "  </thead>\n",
       "  <tbody>\n",
       "    <tr>\n",
       "      <th>7590-VHVEG</th>\n",
       "      <td>Female</td>\n",
       "      <td>0</td>\n",
       "      <td>Yes</td>\n",
       "      <td>No</td>\n",
       "    </tr>\n",
       "    <tr>\n",
       "      <th>5575-GNVDE</th>\n",
       "      <td>Male</td>\n",
       "      <td>0</td>\n",
       "      <td>No</td>\n",
       "      <td>No</td>\n",
       "    </tr>\n",
       "    <tr>\n",
       "      <th>3668-QPYBK</th>\n",
       "      <td>Male</td>\n",
       "      <td>0</td>\n",
       "      <td>No</td>\n",
       "      <td>No</td>\n",
       "    </tr>\n",
       "    <tr>\n",
       "      <th>7795-CFOCW</th>\n",
       "      <td>Male</td>\n",
       "      <td>0</td>\n",
       "      <td>No</td>\n",
       "      <td>No</td>\n",
       "    </tr>\n",
       "    <tr>\n",
       "      <th>9237-HQITU</th>\n",
       "      <td>Female</td>\n",
       "      <td>0</td>\n",
       "      <td>No</td>\n",
       "      <td>No</td>\n",
       "    </tr>\n",
       "  </tbody>\n",
       "</table>\n",
       "</div>"
      ],
      "text/plain": [
       "            gender  SeniorCitizen Partner Dependents\n",
       "customerID                                          \n",
       "7590-VHVEG  Female              0     Yes         No\n",
       "5575-GNVDE    Male              0      No         No\n",
       "3668-QPYBK    Male              0      No         No\n",
       "7795-CFOCW    Male              0      No         No\n",
       "9237-HQITU  Female              0      No         No"
      ]
     },
     "metadata": {},
     "output_type": "display_data"
    },
    {
     "name": "stdout",
     "output_type": "stream",
     "text": [
      "\n",
      "<class 'pandas.core.frame.DataFrame'>\n",
      "Index: 7043 entries, 7590-VHVEG to 3186-AJIEK\n",
      "Data columns (total 4 columns):\n",
      " #   Column         Non-Null Count  Dtype \n",
      "---  ------         --------------  ----- \n",
      " 0   gender         7043 non-null   object\n",
      " 1   SeniorCitizen  7043 non-null   int64 \n",
      " 2   Partner        7043 non-null   object\n",
      " 3   Dependents     7043 non-null   object\n",
      "dtypes: int64(1), object(3)\n",
      "memory usage: 275.1+ KB\n",
      "\n"
     ]
    },
    {
     "data": {
      "text/html": [
       "<div>\n",
       "<style scoped>\n",
       "    .dataframe tbody tr th:only-of-type {\n",
       "        vertical-align: middle;\n",
       "    }\n",
       "\n",
       "    .dataframe tbody tr th {\n",
       "        vertical-align: top;\n",
       "    }\n",
       "\n",
       "    .dataframe thead th {\n",
       "        text-align: right;\n",
       "    }\n",
       "</style>\n",
       "<table border=\"1\" class=\"dataframe\">\n",
       "  <thead>\n",
       "    <tr style=\"text-align: right;\">\n",
       "      <th></th>\n",
       "      <th>SeniorCitizen</th>\n",
       "    </tr>\n",
       "  </thead>\n",
       "  <tbody>\n",
       "    <tr>\n",
       "      <th>count</th>\n",
       "      <td>7043.000000</td>\n",
       "    </tr>\n",
       "    <tr>\n",
       "      <th>mean</th>\n",
       "      <td>0.162147</td>\n",
       "    </tr>\n",
       "    <tr>\n",
       "      <th>std</th>\n",
       "      <td>0.368612</td>\n",
       "    </tr>\n",
       "    <tr>\n",
       "      <th>min</th>\n",
       "      <td>0.000000</td>\n",
       "    </tr>\n",
       "    <tr>\n",
       "      <th>25%</th>\n",
       "      <td>0.000000</td>\n",
       "    </tr>\n",
       "    <tr>\n",
       "      <th>50%</th>\n",
       "      <td>0.000000</td>\n",
       "    </tr>\n",
       "    <tr>\n",
       "      <th>75%</th>\n",
       "      <td>0.000000</td>\n",
       "    </tr>\n",
       "    <tr>\n",
       "      <th>max</th>\n",
       "      <td>1.000000</td>\n",
       "    </tr>\n",
       "  </tbody>\n",
       "</table>\n",
       "</div>"
      ],
      "text/plain": [
       "       SeniorCitizen\n",
       "count    7043.000000\n",
       "mean        0.162147\n",
       "std         0.368612\n",
       "min         0.000000\n",
       "25%         0.000000\n",
       "50%         0.000000\n",
       "75%         0.000000\n",
       "max         1.000000"
      ]
     },
     "metadata": {},
     "output_type": "display_data"
    }
   ],
   "source": [
    "analysis(personal)"
   ]
  },
  {
   "cell_type": "markdown",
   "metadata": {
    "id": "bo31tPZ3Mysx"
   },
   "source": [
    "**Вывод по** `personal_new.csv`\n",
    "\n",
    "- Структура данных состоит из 4 колонок и 7043 строк\n",
    "- Пропусков в данных не наблюдается"
   ]
  },
  {
   "cell_type": "code",
   "execution_count": 8,
   "metadata": {
    "colab": {
     "base_uri": "https://localhost:8080/",
     "height": 824
    },
    "id": "K2JExhQxNYe0",
    "outputId": "4cebec21-beca-41e9-9e37-e900a134854b"
   },
   "outputs": [
    {
     "data": {
      "text/html": [
       "<div>\n",
       "<style scoped>\n",
       "    .dataframe tbody tr th:only-of-type {\n",
       "        vertical-align: middle;\n",
       "    }\n",
       "\n",
       "    .dataframe tbody tr th {\n",
       "        vertical-align: top;\n",
       "    }\n",
       "\n",
       "    .dataframe thead th {\n",
       "        text-align: right;\n",
       "    }\n",
       "</style>\n",
       "<table border=\"1\" class=\"dataframe\">\n",
       "  <thead>\n",
       "    <tr style=\"text-align: right;\">\n",
       "      <th></th>\n",
       "      <th>InternetService</th>\n",
       "      <th>OnlineSecurity</th>\n",
       "      <th>OnlineBackup</th>\n",
       "      <th>DeviceProtection</th>\n",
       "      <th>TechSupport</th>\n",
       "      <th>StreamingTV</th>\n",
       "      <th>StreamingMovies</th>\n",
       "    </tr>\n",
       "    <tr>\n",
       "      <th>customerID</th>\n",
       "      <th></th>\n",
       "      <th></th>\n",
       "      <th></th>\n",
       "      <th></th>\n",
       "      <th></th>\n",
       "      <th></th>\n",
       "      <th></th>\n",
       "    </tr>\n",
       "  </thead>\n",
       "  <tbody>\n",
       "    <tr>\n",
       "      <th>7590-VHVEG</th>\n",
       "      <td>DSL</td>\n",
       "      <td>No</td>\n",
       "      <td>Yes</td>\n",
       "      <td>No</td>\n",
       "      <td>No</td>\n",
       "      <td>No</td>\n",
       "      <td>No</td>\n",
       "    </tr>\n",
       "    <tr>\n",
       "      <th>5575-GNVDE</th>\n",
       "      <td>DSL</td>\n",
       "      <td>Yes</td>\n",
       "      <td>No</td>\n",
       "      <td>Yes</td>\n",
       "      <td>No</td>\n",
       "      <td>No</td>\n",
       "      <td>No</td>\n",
       "    </tr>\n",
       "    <tr>\n",
       "      <th>3668-QPYBK</th>\n",
       "      <td>DSL</td>\n",
       "      <td>Yes</td>\n",
       "      <td>Yes</td>\n",
       "      <td>No</td>\n",
       "      <td>No</td>\n",
       "      <td>No</td>\n",
       "      <td>No</td>\n",
       "    </tr>\n",
       "    <tr>\n",
       "      <th>7795-CFOCW</th>\n",
       "      <td>DSL</td>\n",
       "      <td>Yes</td>\n",
       "      <td>No</td>\n",
       "      <td>Yes</td>\n",
       "      <td>Yes</td>\n",
       "      <td>No</td>\n",
       "      <td>No</td>\n",
       "    </tr>\n",
       "    <tr>\n",
       "      <th>9237-HQITU</th>\n",
       "      <td>Fiber optic</td>\n",
       "      <td>No</td>\n",
       "      <td>No</td>\n",
       "      <td>No</td>\n",
       "      <td>No</td>\n",
       "      <td>No</td>\n",
       "      <td>No</td>\n",
       "    </tr>\n",
       "  </tbody>\n",
       "</table>\n",
       "</div>"
      ],
      "text/plain": [
       "           InternetService OnlineSecurity OnlineBackup DeviceProtection  \\\n",
       "customerID                                                                \n",
       "7590-VHVEG             DSL             No          Yes               No   \n",
       "5575-GNVDE             DSL            Yes           No              Yes   \n",
       "3668-QPYBK             DSL            Yes          Yes               No   \n",
       "7795-CFOCW             DSL            Yes           No              Yes   \n",
       "9237-HQITU     Fiber optic             No           No               No   \n",
       "\n",
       "           TechSupport StreamingTV StreamingMovies  \n",
       "customerID                                          \n",
       "7590-VHVEG          No          No              No  \n",
       "5575-GNVDE          No          No              No  \n",
       "3668-QPYBK          No          No              No  \n",
       "7795-CFOCW         Yes          No              No  \n",
       "9237-HQITU          No          No              No  "
      ]
     },
     "metadata": {},
     "output_type": "display_data"
    },
    {
     "name": "stdout",
     "output_type": "stream",
     "text": [
      "\n",
      "<class 'pandas.core.frame.DataFrame'>\n",
      "Index: 5517 entries, 7590-VHVEG to 3186-AJIEK\n",
      "Data columns (total 7 columns):\n",
      " #   Column            Non-Null Count  Dtype \n",
      "---  ------            --------------  ----- \n",
      " 0   InternetService   5517 non-null   object\n",
      " 1   OnlineSecurity    5517 non-null   object\n",
      " 2   OnlineBackup      5517 non-null   object\n",
      " 3   DeviceProtection  5517 non-null   object\n",
      " 4   TechSupport       5517 non-null   object\n",
      " 5   StreamingTV       5517 non-null   object\n",
      " 6   StreamingMovies   5517 non-null   object\n",
      "dtypes: object(7)\n",
      "memory usage: 344.8+ KB\n",
      "\n"
     ]
    },
    {
     "data": {
      "text/html": [
       "<div>\n",
       "<style scoped>\n",
       "    .dataframe tbody tr th:only-of-type {\n",
       "        vertical-align: middle;\n",
       "    }\n",
       "\n",
       "    .dataframe tbody tr th {\n",
       "        vertical-align: top;\n",
       "    }\n",
       "\n",
       "    .dataframe thead th {\n",
       "        text-align: right;\n",
       "    }\n",
       "</style>\n",
       "<table border=\"1\" class=\"dataframe\">\n",
       "  <thead>\n",
       "    <tr style=\"text-align: right;\">\n",
       "      <th></th>\n",
       "      <th>InternetService</th>\n",
       "      <th>OnlineSecurity</th>\n",
       "      <th>OnlineBackup</th>\n",
       "      <th>DeviceProtection</th>\n",
       "      <th>TechSupport</th>\n",
       "      <th>StreamingTV</th>\n",
       "      <th>StreamingMovies</th>\n",
       "    </tr>\n",
       "  </thead>\n",
       "  <tbody>\n",
       "    <tr>\n",
       "      <th>count</th>\n",
       "      <td>5517</td>\n",
       "      <td>5517</td>\n",
       "      <td>5517</td>\n",
       "      <td>5517</td>\n",
       "      <td>5517</td>\n",
       "      <td>5517</td>\n",
       "      <td>5517</td>\n",
       "    </tr>\n",
       "    <tr>\n",
       "      <th>unique</th>\n",
       "      <td>2</td>\n",
       "      <td>2</td>\n",
       "      <td>2</td>\n",
       "      <td>2</td>\n",
       "      <td>2</td>\n",
       "      <td>2</td>\n",
       "      <td>2</td>\n",
       "    </tr>\n",
       "    <tr>\n",
       "      <th>top</th>\n",
       "      <td>Fiber optic</td>\n",
       "      <td>No</td>\n",
       "      <td>No</td>\n",
       "      <td>No</td>\n",
       "      <td>No</td>\n",
       "      <td>No</td>\n",
       "      <td>No</td>\n",
       "    </tr>\n",
       "    <tr>\n",
       "      <th>freq</th>\n",
       "      <td>3096</td>\n",
       "      <td>3498</td>\n",
       "      <td>3088</td>\n",
       "      <td>3095</td>\n",
       "      <td>3473</td>\n",
       "      <td>2810</td>\n",
       "      <td>2785</td>\n",
       "    </tr>\n",
       "  </tbody>\n",
       "</table>\n",
       "</div>"
      ],
      "text/plain": [
       "       InternetService OnlineSecurity OnlineBackup DeviceProtection  \\\n",
       "count             5517           5517         5517             5517   \n",
       "unique               2              2            2                2   \n",
       "top        Fiber optic             No           No               No   \n",
       "freq              3096           3498         3088             3095   \n",
       "\n",
       "       TechSupport StreamingTV StreamingMovies  \n",
       "count         5517        5517            5517  \n",
       "unique           2           2               2  \n",
       "top             No          No              No  \n",
       "freq          3473        2810            2785  "
      ]
     },
     "metadata": {},
     "output_type": "display_data"
    }
   ],
   "source": [
    "analysis(internet)"
   ]
  },
  {
   "cell_type": "markdown",
   "metadata": {
    "id": "TsxKRNUVNgDL"
   },
   "source": [
    "**Вывод по** `internet_new.csv`\n",
    "\n",
    "- Структура данных состоит из 7 колонок и 5517 строк\n",
    "- Данный датасет имеет меньшее кол-во строк, что говорит о том, что данные есть не по всем клиентам (оно и логично, так как не все клиенты пользуются всеми услугами)"
   ]
  },
  {
   "cell_type": "code",
   "execution_count": 9,
   "metadata": {
    "colab": {
     "base_uri": "https://localhost:8080/",
     "height": 720
    },
    "id": "Z_WGUtvnN_aT",
    "outputId": "585044e4-b3d4-4fcc-dcf6-4e56f83b1d51"
   },
   "outputs": [
    {
     "data": {
      "text/html": [
       "<div>\n",
       "<style scoped>\n",
       "    .dataframe tbody tr th:only-of-type {\n",
       "        vertical-align: middle;\n",
       "    }\n",
       "\n",
       "    .dataframe tbody tr th {\n",
       "        vertical-align: top;\n",
       "    }\n",
       "\n",
       "    .dataframe thead th {\n",
       "        text-align: right;\n",
       "    }\n",
       "</style>\n",
       "<table border=\"1\" class=\"dataframe\">\n",
       "  <thead>\n",
       "    <tr style=\"text-align: right;\">\n",
       "      <th></th>\n",
       "      <th>MultipleLines</th>\n",
       "    </tr>\n",
       "    <tr>\n",
       "      <th>customerID</th>\n",
       "      <th></th>\n",
       "    </tr>\n",
       "  </thead>\n",
       "  <tbody>\n",
       "    <tr>\n",
       "      <th>5575-GNVDE</th>\n",
       "      <td>No</td>\n",
       "    </tr>\n",
       "    <tr>\n",
       "      <th>3668-QPYBK</th>\n",
       "      <td>No</td>\n",
       "    </tr>\n",
       "    <tr>\n",
       "      <th>9237-HQITU</th>\n",
       "      <td>No</td>\n",
       "    </tr>\n",
       "    <tr>\n",
       "      <th>9305-CDSKC</th>\n",
       "      <td>Yes</td>\n",
       "    </tr>\n",
       "    <tr>\n",
       "      <th>1452-KIOVK</th>\n",
       "      <td>Yes</td>\n",
       "    </tr>\n",
       "  </tbody>\n",
       "</table>\n",
       "</div>"
      ],
      "text/plain": [
       "           MultipleLines\n",
       "customerID              \n",
       "5575-GNVDE            No\n",
       "3668-QPYBK            No\n",
       "9237-HQITU            No\n",
       "9305-CDSKC           Yes\n",
       "1452-KIOVK           Yes"
      ]
     },
     "metadata": {},
     "output_type": "display_data"
    },
    {
     "name": "stdout",
     "output_type": "stream",
     "text": [
      "\n",
      "<class 'pandas.core.frame.DataFrame'>\n",
      "Index: 6361 entries, 5575-GNVDE to 3186-AJIEK\n",
      "Data columns (total 1 columns):\n",
      " #   Column         Non-Null Count  Dtype \n",
      "---  ------         --------------  ----- \n",
      " 0   MultipleLines  6361 non-null   object\n",
      "dtypes: object(1)\n",
      "memory usage: 99.4+ KB\n",
      "\n"
     ]
    },
    {
     "data": {
      "text/html": [
       "<div>\n",
       "<style scoped>\n",
       "    .dataframe tbody tr th:only-of-type {\n",
       "        vertical-align: middle;\n",
       "    }\n",
       "\n",
       "    .dataframe tbody tr th {\n",
       "        vertical-align: top;\n",
       "    }\n",
       "\n",
       "    .dataframe thead th {\n",
       "        text-align: right;\n",
       "    }\n",
       "</style>\n",
       "<table border=\"1\" class=\"dataframe\">\n",
       "  <thead>\n",
       "    <tr style=\"text-align: right;\">\n",
       "      <th></th>\n",
       "      <th>MultipleLines</th>\n",
       "    </tr>\n",
       "  </thead>\n",
       "  <tbody>\n",
       "    <tr>\n",
       "      <th>count</th>\n",
       "      <td>6361</td>\n",
       "    </tr>\n",
       "    <tr>\n",
       "      <th>unique</th>\n",
       "      <td>2</td>\n",
       "    </tr>\n",
       "    <tr>\n",
       "      <th>top</th>\n",
       "      <td>No</td>\n",
       "    </tr>\n",
       "    <tr>\n",
       "      <th>freq</th>\n",
       "      <td>3390</td>\n",
       "    </tr>\n",
       "  </tbody>\n",
       "</table>\n",
       "</div>"
      ],
      "text/plain": [
       "       MultipleLines\n",
       "count           6361\n",
       "unique             2\n",
       "top               No\n",
       "freq            3390"
      ]
     },
     "metadata": {},
     "output_type": "display_data"
    }
   ],
   "source": [
    "analysis(phone)"
   ]
  },
  {
   "cell_type": "markdown",
   "metadata": {
    "id": "QzTOmoqKON3O"
   },
   "source": [
    "**Вывод по** `phone_new.csv`\n",
    "\n",
    "- Структура данных состоит из 1 колонки и 6361 строки\n",
    "- Данный датасет, как и `internet_new.csv` имеет меньшее кол-во строк, что говорит о том, что данные есть не по всем клиентам"
   ]
  },
  {
   "cell_type": "markdown",
   "metadata": {
    "id": "y4DkR5CTU1qv"
   },
   "source": [
    "## Подготовка данных"
   ]
  },
  {
   "cell_type": "code",
   "execution_count": 10,
   "metadata": {
    "id": "d2AWmsrAWHNb"
   },
   "outputs": [],
   "source": [
    "# добавляем новый стобец Churn, который будет нашим целевым признаком\n",
    "\n",
    "contract['Churn'] = (contract['EndDate'] != 'No').astype(int)"
   ]
  },
  {
   "cell_type": "code",
   "execution_count": 11,
   "metadata": {
    "id": "eXwvOQtxU7NP"
   },
   "outputs": [],
   "source": [
    "# меняем тип данных\n",
    "\n",
    "contract['BeginDate'] = pd.to_datetime(contract['BeginDate'])"
   ]
  },
  {
   "cell_type": "code",
   "execution_count": 12,
   "metadata": {
    "id": "6ab4ueFVW32S"
   },
   "outputs": [],
   "source": [
    "# заменяем все значения No в столбце EndDate на актуальную дату. (1 февраля 2020)\n",
    "\n",
    "contract['EndDate'] = contract['EndDate'].where(contract['EndDate'] != 'No', '2020-02-01')\n",
    "contract['EndDate'] = pd.to_datetime(contract['EndDate'])"
   ]
  },
  {
   "cell_type": "code",
   "execution_count": 13,
   "metadata": {
    "colab": {
     "base_uri": "https://localhost:8080/"
    },
    "id": "_6-6jZZ2XLQu",
    "outputId": "d7e8608c-12c0-40af-802d-8524b38c6653"
   },
   "outputs": [
    {
     "data": {
      "text/plain": [
       "         11\n",
       "20.45     6\n",
       "101.0     5\n",
       "21.53     4\n",
       "40.1      4\n",
       "Name: TotalCharges, dtype: int64"
      ]
     },
     "execution_count": 13,
     "metadata": {},
     "output_type": "execute_result"
    }
   ],
   "source": [
    "# при попытке преобразовать колонку произошла ошибка, в столбце есть пропуски\n",
    "\n",
    "contract['TotalCharges'].value_counts().head()"
   ]
  },
  {
   "cell_type": "code",
   "execution_count": 14,
   "metadata": {
    "id": "1h9CsxWtXbca"
   },
   "outputs": [],
   "source": [
    "# заполним все 11 пропусков нулями и изменим тип данных\n",
    "\n",
    "contract.loc[contract['TotalCharges'] == ' ', 'TotalCharges'] = 0\n",
    "contract['TotalCharges'] = contract['TotalCharges'].astype(float)"
   ]
  },
  {
   "cell_type": "code",
   "execution_count": 15,
   "metadata": {
    "colab": {
     "base_uri": "https://localhost:8080/"
    },
    "id": "6_P39QbJXrqa",
    "outputId": "c01c4769-7992-42df-8e80-4b5d20e0f042"
   },
   "outputs": [
    {
     "name": "stdout",
     "output_type": "stream",
     "text": [
      "<class 'pandas.core.frame.DataFrame'>\n",
      "Index: 7043 entries, 7590-VHVEG to 3186-AJIEK\n",
      "Data columns (total 8 columns):\n",
      " #   Column            Non-Null Count  Dtype         \n",
      "---  ------            --------------  -----         \n",
      " 0   BeginDate         7043 non-null   datetime64[ns]\n",
      " 1   EndDate           7043 non-null   datetime64[ns]\n",
      " 2   Type              7043 non-null   object        \n",
      " 3   PaperlessBilling  7043 non-null   object        \n",
      " 4   PaymentMethod     7043 non-null   object        \n",
      " 5   MonthlyCharges    7043 non-null   float64       \n",
      " 6   TotalCharges      7043 non-null   float64       \n",
      " 7   Churn             7043 non-null   int32         \n",
      "dtypes: datetime64[ns](2), float64(2), int32(1), object(3)\n",
      "memory usage: 467.7+ KB\n"
     ]
    }
   ],
   "source": [
    "# выводим информацию, чтобы проверить изменились ли все типы данных\n",
    "\n",
    "contract.info()"
   ]
  },
  {
   "cell_type": "code",
   "execution_count": 16,
   "metadata": {
    "colab": {
     "base_uri": "https://localhost:8080/",
     "height": 237
    },
    "id": "57LSNB_4kR-a",
    "outputId": "0afb669b-57c1-4fa3-8600-90ca2d68a759"
   },
   "outputs": [
    {
     "data": {
      "text/html": [
       "<div>\n",
       "<style scoped>\n",
       "    .dataframe tbody tr th:only-of-type {\n",
       "        vertical-align: middle;\n",
       "    }\n",
       "\n",
       "    .dataframe tbody tr th {\n",
       "        vertical-align: top;\n",
       "    }\n",
       "\n",
       "    .dataframe thead th {\n",
       "        text-align: right;\n",
       "    }\n",
       "</style>\n",
       "<table border=\"1\" class=\"dataframe\">\n",
       "  <thead>\n",
       "    <tr style=\"text-align: right;\">\n",
       "      <th></th>\n",
       "      <th>BeginDate</th>\n",
       "      <th>EndDate</th>\n",
       "      <th>Type</th>\n",
       "      <th>PaperlessBilling</th>\n",
       "      <th>PaymentMethod</th>\n",
       "      <th>MonthlyCharges</th>\n",
       "      <th>TotalCharges</th>\n",
       "      <th>Churn</th>\n",
       "    </tr>\n",
       "    <tr>\n",
       "      <th>customerID</th>\n",
       "      <th></th>\n",
       "      <th></th>\n",
       "      <th></th>\n",
       "      <th></th>\n",
       "      <th></th>\n",
       "      <th></th>\n",
       "      <th></th>\n",
       "      <th></th>\n",
       "    </tr>\n",
       "  </thead>\n",
       "  <tbody>\n",
       "    <tr>\n",
       "      <th>7590-VHVEG</th>\n",
       "      <td>2020-01-01</td>\n",
       "      <td>2020-02-01</td>\n",
       "      <td>Month-to-month</td>\n",
       "      <td>Yes</td>\n",
       "      <td>Electronic check</td>\n",
       "      <td>29.85</td>\n",
       "      <td>31.04</td>\n",
       "      <td>0</td>\n",
       "    </tr>\n",
       "    <tr>\n",
       "      <th>5575-GNVDE</th>\n",
       "      <td>2017-04-01</td>\n",
       "      <td>2020-02-01</td>\n",
       "      <td>One year</td>\n",
       "      <td>No</td>\n",
       "      <td>Mailed check</td>\n",
       "      <td>56.95</td>\n",
       "      <td>2071.84</td>\n",
       "      <td>0</td>\n",
       "    </tr>\n",
       "    <tr>\n",
       "      <th>3668-QPYBK</th>\n",
       "      <td>2019-10-01</td>\n",
       "      <td>2020-02-01</td>\n",
       "      <td>Month-to-month</td>\n",
       "      <td>Yes</td>\n",
       "      <td>Mailed check</td>\n",
       "      <td>53.85</td>\n",
       "      <td>226.17</td>\n",
       "      <td>0</td>\n",
       "    </tr>\n",
       "    <tr>\n",
       "      <th>7795-CFOCW</th>\n",
       "      <td>2016-05-01</td>\n",
       "      <td>2020-02-01</td>\n",
       "      <td>One year</td>\n",
       "      <td>No</td>\n",
       "      <td>Bank transfer (automatic)</td>\n",
       "      <td>42.30</td>\n",
       "      <td>1960.60</td>\n",
       "      <td>0</td>\n",
       "    </tr>\n",
       "    <tr>\n",
       "      <th>9237-HQITU</th>\n",
       "      <td>2019-09-01</td>\n",
       "      <td>2020-02-01</td>\n",
       "      <td>Month-to-month</td>\n",
       "      <td>Yes</td>\n",
       "      <td>Electronic check</td>\n",
       "      <td>70.70</td>\n",
       "      <td>353.50</td>\n",
       "      <td>0</td>\n",
       "    </tr>\n",
       "  </tbody>\n",
       "</table>\n",
       "</div>"
      ],
      "text/plain": [
       "            BeginDate    EndDate            Type PaperlessBilling  \\\n",
       "customerID                                                          \n",
       "7590-VHVEG 2020-01-01 2020-02-01  Month-to-month              Yes   \n",
       "5575-GNVDE 2017-04-01 2020-02-01        One year               No   \n",
       "3668-QPYBK 2019-10-01 2020-02-01  Month-to-month              Yes   \n",
       "7795-CFOCW 2016-05-01 2020-02-01        One year               No   \n",
       "9237-HQITU 2019-09-01 2020-02-01  Month-to-month              Yes   \n",
       "\n",
       "                        PaymentMethod  MonthlyCharges  TotalCharges  Churn  \n",
       "customerID                                                                  \n",
       "7590-VHVEG           Electronic check           29.85         31.04      0  \n",
       "5575-GNVDE               Mailed check           56.95       2071.84      0  \n",
       "3668-QPYBK               Mailed check           53.85        226.17      0  \n",
       "7795-CFOCW  Bank transfer (automatic)           42.30       1960.60      0  \n",
       "9237-HQITU           Electronic check           70.70        353.50      0  "
      ]
     },
     "execution_count": 16,
     "metadata": {},
     "output_type": "execute_result"
    }
   ],
   "source": [
    "#создадим копию датасета, чтобы объединить все файлы в 1 датасет\n",
    "\n",
    "data = contract.copy()\n",
    "data.head()"
   ]
  },
  {
   "cell_type": "code",
   "execution_count": 17,
   "metadata": {
    "id": "n8NCQzGBlDra"
   },
   "outputs": [],
   "source": [
    "# присоединяем все датасеты в 1\n",
    "\n",
    "data = data.join(personal)\n",
    "data = data.join(internet)\n",
    "data = data.join(phone)"
   ]
  },
  {
   "cell_type": "code",
   "execution_count": 18,
   "metadata": {
    "colab": {
     "base_uri": "https://localhost:8080/",
     "height": 440
    },
    "id": "QzmTQ2dqlPSx",
    "outputId": "7ca2c04d-d580-43bf-ae6d-f44560836e28"
   },
   "outputs": [
    {
     "data": {
      "text/html": [
       "<div>\n",
       "<style scoped>\n",
       "    .dataframe tbody tr th:only-of-type {\n",
       "        vertical-align: middle;\n",
       "    }\n",
       "\n",
       "    .dataframe tbody tr th {\n",
       "        vertical-align: top;\n",
       "    }\n",
       "\n",
       "    .dataframe thead th {\n",
       "        text-align: right;\n",
       "    }\n",
       "</style>\n",
       "<table border=\"1\" class=\"dataframe\">\n",
       "  <thead>\n",
       "    <tr style=\"text-align: right;\">\n",
       "      <th></th>\n",
       "      <th>BeginDate</th>\n",
       "      <th>EndDate</th>\n",
       "      <th>Type</th>\n",
       "      <th>PaperlessBilling</th>\n",
       "      <th>PaymentMethod</th>\n",
       "      <th>MonthlyCharges</th>\n",
       "      <th>TotalCharges</th>\n",
       "      <th>Churn</th>\n",
       "      <th>gender</th>\n",
       "      <th>SeniorCitizen</th>\n",
       "      <th>Partner</th>\n",
       "      <th>Dependents</th>\n",
       "      <th>InternetService</th>\n",
       "      <th>OnlineSecurity</th>\n",
       "      <th>OnlineBackup</th>\n",
       "      <th>DeviceProtection</th>\n",
       "      <th>TechSupport</th>\n",
       "      <th>StreamingTV</th>\n",
       "      <th>StreamingMovies</th>\n",
       "      <th>MultipleLines</th>\n",
       "    </tr>\n",
       "    <tr>\n",
       "      <th>customerID</th>\n",
       "      <th></th>\n",
       "      <th></th>\n",
       "      <th></th>\n",
       "      <th></th>\n",
       "      <th></th>\n",
       "      <th></th>\n",
       "      <th></th>\n",
       "      <th></th>\n",
       "      <th></th>\n",
       "      <th></th>\n",
       "      <th></th>\n",
       "      <th></th>\n",
       "      <th></th>\n",
       "      <th></th>\n",
       "      <th></th>\n",
       "      <th></th>\n",
       "      <th></th>\n",
       "      <th></th>\n",
       "      <th></th>\n",
       "      <th></th>\n",
       "    </tr>\n",
       "  </thead>\n",
       "  <tbody>\n",
       "    <tr>\n",
       "      <th>7590-VHVEG</th>\n",
       "      <td>2020-01-01</td>\n",
       "      <td>2020-02-01</td>\n",
       "      <td>Month-to-month</td>\n",
       "      <td>Yes</td>\n",
       "      <td>Electronic check</td>\n",
       "      <td>29.85</td>\n",
       "      <td>31.04</td>\n",
       "      <td>0</td>\n",
       "      <td>Female</td>\n",
       "      <td>0</td>\n",
       "      <td>Yes</td>\n",
       "      <td>No</td>\n",
       "      <td>DSL</td>\n",
       "      <td>No</td>\n",
       "      <td>Yes</td>\n",
       "      <td>No</td>\n",
       "      <td>No</td>\n",
       "      <td>No</td>\n",
       "      <td>No</td>\n",
       "      <td>NaN</td>\n",
       "    </tr>\n",
       "    <tr>\n",
       "      <th>5575-GNVDE</th>\n",
       "      <td>2017-04-01</td>\n",
       "      <td>2020-02-01</td>\n",
       "      <td>One year</td>\n",
       "      <td>No</td>\n",
       "      <td>Mailed check</td>\n",
       "      <td>56.95</td>\n",
       "      <td>2071.84</td>\n",
       "      <td>0</td>\n",
       "      <td>Male</td>\n",
       "      <td>0</td>\n",
       "      <td>No</td>\n",
       "      <td>No</td>\n",
       "      <td>DSL</td>\n",
       "      <td>Yes</td>\n",
       "      <td>No</td>\n",
       "      <td>Yes</td>\n",
       "      <td>No</td>\n",
       "      <td>No</td>\n",
       "      <td>No</td>\n",
       "      <td>No</td>\n",
       "    </tr>\n",
       "    <tr>\n",
       "      <th>3668-QPYBK</th>\n",
       "      <td>2019-10-01</td>\n",
       "      <td>2020-02-01</td>\n",
       "      <td>Month-to-month</td>\n",
       "      <td>Yes</td>\n",
       "      <td>Mailed check</td>\n",
       "      <td>53.85</td>\n",
       "      <td>226.17</td>\n",
       "      <td>0</td>\n",
       "      <td>Male</td>\n",
       "      <td>0</td>\n",
       "      <td>No</td>\n",
       "      <td>No</td>\n",
       "      <td>DSL</td>\n",
       "      <td>Yes</td>\n",
       "      <td>Yes</td>\n",
       "      <td>No</td>\n",
       "      <td>No</td>\n",
       "      <td>No</td>\n",
       "      <td>No</td>\n",
       "      <td>No</td>\n",
       "    </tr>\n",
       "    <tr>\n",
       "      <th>7795-CFOCW</th>\n",
       "      <td>2016-05-01</td>\n",
       "      <td>2020-02-01</td>\n",
       "      <td>One year</td>\n",
       "      <td>No</td>\n",
       "      <td>Bank transfer (automatic)</td>\n",
       "      <td>42.30</td>\n",
       "      <td>1960.60</td>\n",
       "      <td>0</td>\n",
       "      <td>Male</td>\n",
       "      <td>0</td>\n",
       "      <td>No</td>\n",
       "      <td>No</td>\n",
       "      <td>DSL</td>\n",
       "      <td>Yes</td>\n",
       "      <td>No</td>\n",
       "      <td>Yes</td>\n",
       "      <td>Yes</td>\n",
       "      <td>No</td>\n",
       "      <td>No</td>\n",
       "      <td>NaN</td>\n",
       "    </tr>\n",
       "    <tr>\n",
       "      <th>9237-HQITU</th>\n",
       "      <td>2019-09-01</td>\n",
       "      <td>2020-02-01</td>\n",
       "      <td>Month-to-month</td>\n",
       "      <td>Yes</td>\n",
       "      <td>Electronic check</td>\n",
       "      <td>70.70</td>\n",
       "      <td>353.50</td>\n",
       "      <td>0</td>\n",
       "      <td>Female</td>\n",
       "      <td>0</td>\n",
       "      <td>No</td>\n",
       "      <td>No</td>\n",
       "      <td>Fiber optic</td>\n",
       "      <td>No</td>\n",
       "      <td>No</td>\n",
       "      <td>No</td>\n",
       "      <td>No</td>\n",
       "      <td>No</td>\n",
       "      <td>No</td>\n",
       "      <td>No</td>\n",
       "    </tr>\n",
       "  </tbody>\n",
       "</table>\n",
       "</div>"
      ],
      "text/plain": [
       "            BeginDate    EndDate            Type PaperlessBilling  \\\n",
       "customerID                                                          \n",
       "7590-VHVEG 2020-01-01 2020-02-01  Month-to-month              Yes   \n",
       "5575-GNVDE 2017-04-01 2020-02-01        One year               No   \n",
       "3668-QPYBK 2019-10-01 2020-02-01  Month-to-month              Yes   \n",
       "7795-CFOCW 2016-05-01 2020-02-01        One year               No   \n",
       "9237-HQITU 2019-09-01 2020-02-01  Month-to-month              Yes   \n",
       "\n",
       "                        PaymentMethod  MonthlyCharges  TotalCharges  Churn  \\\n",
       "customerID                                                                   \n",
       "7590-VHVEG           Electronic check           29.85         31.04      0   \n",
       "5575-GNVDE               Mailed check           56.95       2071.84      0   \n",
       "3668-QPYBK               Mailed check           53.85        226.17      0   \n",
       "7795-CFOCW  Bank transfer (automatic)           42.30       1960.60      0   \n",
       "9237-HQITU           Electronic check           70.70        353.50      0   \n",
       "\n",
       "            gender  SeniorCitizen Partner Dependents InternetService  \\\n",
       "customerID                                                             \n",
       "7590-VHVEG  Female              0     Yes         No             DSL   \n",
       "5575-GNVDE    Male              0      No         No             DSL   \n",
       "3668-QPYBK    Male              0      No         No             DSL   \n",
       "7795-CFOCW    Male              0      No         No             DSL   \n",
       "9237-HQITU  Female              0      No         No     Fiber optic   \n",
       "\n",
       "           OnlineSecurity OnlineBackup DeviceProtection TechSupport  \\\n",
       "customerID                                                            \n",
       "7590-VHVEG             No          Yes               No          No   \n",
       "5575-GNVDE            Yes           No              Yes          No   \n",
       "3668-QPYBK            Yes          Yes               No          No   \n",
       "7795-CFOCW            Yes           No              Yes         Yes   \n",
       "9237-HQITU             No           No               No          No   \n",
       "\n",
       "           StreamingTV StreamingMovies MultipleLines  \n",
       "customerID                                            \n",
       "7590-VHVEG          No              No           NaN  \n",
       "5575-GNVDE          No              No            No  \n",
       "3668-QPYBK          No              No            No  \n",
       "7795-CFOCW          No              No           NaN  \n",
       "9237-HQITU          No              No            No  "
      ]
     },
     "execution_count": 18,
     "metadata": {},
     "output_type": "execute_result"
    }
   ],
   "source": [
    "data.head()"
   ]
  },
  {
   "cell_type": "code",
   "execution_count": 19,
   "metadata": {
    "colab": {
     "base_uri": "https://localhost:8080/"
    },
    "id": "hNtsmjTxlSnm",
    "outputId": "bd8fe382-b250-4762-f261-e2f3462c8325"
   },
   "outputs": [
    {
     "name": "stdout",
     "output_type": "stream",
     "text": [
      "<class 'pandas.core.frame.DataFrame'>\n",
      "Index: 7043 entries, 7590-VHVEG to 3186-AJIEK\n",
      "Data columns (total 20 columns):\n",
      " #   Column            Non-Null Count  Dtype         \n",
      "---  ------            --------------  -----         \n",
      " 0   BeginDate         7043 non-null   datetime64[ns]\n",
      " 1   EndDate           7043 non-null   datetime64[ns]\n",
      " 2   Type              7043 non-null   object        \n",
      " 3   PaperlessBilling  7043 non-null   object        \n",
      " 4   PaymentMethod     7043 non-null   object        \n",
      " 5   MonthlyCharges    7043 non-null   float64       \n",
      " 6   TotalCharges      7043 non-null   float64       \n",
      " 7   Churn             7043 non-null   int32         \n",
      " 8   gender            7043 non-null   object        \n",
      " 9   SeniorCitizen     7043 non-null   int64         \n",
      " 10  Partner           7043 non-null   object        \n",
      " 11  Dependents        7043 non-null   object        \n",
      " 12  InternetService   5517 non-null   object        \n",
      " 13  OnlineSecurity    5517 non-null   object        \n",
      " 14  OnlineBackup      5517 non-null   object        \n",
      " 15  DeviceProtection  5517 non-null   object        \n",
      " 16  TechSupport       5517 non-null   object        \n",
      " 17  StreamingTV       5517 non-null   object        \n",
      " 18  StreamingMovies   5517 non-null   object        \n",
      " 19  MultipleLines     6361 non-null   object        \n",
      "dtypes: datetime64[ns](2), float64(2), int32(1), int64(1), object(14)\n",
      "memory usage: 1.4+ MB\n"
     ]
    }
   ],
   "source": [
    "data.info()"
   ]
  },
  {
   "cell_type": "code",
   "execution_count": 20,
   "metadata": {
    "id": "jpRmUdYolXJ4"
   },
   "outputs": [],
   "source": [
    "# заполняем пропуски\n",
    "\n",
    "data = data.fillna('No')"
   ]
  },
  {
   "cell_type": "code",
   "execution_count": 21,
   "metadata": {
    "id": "_i3gS4_1HbPl"
   },
   "outputs": [],
   "source": [
    "#добавим новую колонку. п.с. В дальнейшем, при обучении модели именно она окажется наиболее влиятельным признаком\n",
    "\n",
    "data['TotalDays'] = (data['EndDate'] - data['BeginDate']).dt.days"
   ]
  },
  {
   "cell_type": "code",
   "execution_count": 22,
   "metadata": {
    "colab": {
     "base_uri": "https://localhost:8080/"
    },
    "id": "B3i33wbAlaoy",
    "outputId": "ba020041-364c-4366-915b-768c885a19d1"
   },
   "outputs": [
    {
     "data": {
      "text/plain": [
       "BeginDate           0\n",
       "EndDate             0\n",
       "Type                0\n",
       "PaperlessBilling    0\n",
       "PaymentMethod       0\n",
       "MonthlyCharges      0\n",
       "TotalCharges        0\n",
       "Churn               0\n",
       "gender              0\n",
       "SeniorCitizen       0\n",
       "Partner             0\n",
       "Dependents          0\n",
       "InternetService     0\n",
       "OnlineSecurity      0\n",
       "OnlineBackup        0\n",
       "DeviceProtection    0\n",
       "TechSupport         0\n",
       "StreamingTV         0\n",
       "StreamingMovies     0\n",
       "MultipleLines       0\n",
       "TotalDays           0\n",
       "dtype: int64"
      ]
     },
     "execution_count": 22,
     "metadata": {},
     "output_type": "execute_result"
    }
   ],
   "source": [
    "# проверяем на наличие пропусков\n",
    "\n",
    "data.isna().sum()"
   ]
  },
  {
   "cell_type": "markdown",
   "metadata": {
    "id": "eDGLL0wzxtj5"
   },
   "source": [
    "## Визуализация данных"
   ]
  },
  {
   "cell_type": "code",
   "execution_count": 23,
   "metadata": {
    "colab": {
     "base_uri": "https://localhost:8080/"
    },
    "id": "tjtMzSOUmSRL",
    "outputId": "7686e66e-22af-45fd-a5d1-c93eaa407672"
   },
   "outputs": [
    {
     "data": {
      "text/plain": [
       "0    5942\n",
       "1    1101\n",
       "Name: Churn, dtype: int64"
      ]
     },
     "execution_count": 23,
     "metadata": {},
     "output_type": "execute_result"
    }
   ],
   "source": [
    "data['Churn'].value_counts()"
   ]
  },
  {
   "cell_type": "code",
   "execution_count": 24,
   "metadata": {
    "colab": {
     "base_uri": "https://localhost:8080/",
     "height": 544
    },
    "id": "wzzhvyk5mm3x",
    "outputId": "fb584dd6-878f-432c-f360-eded82c49d2b"
   },
   "outputs": [
    {
     "data": {
      "text/plain": [
       "Text(0.5, 1.0, 'Баланс классов')"
      ]
     },
     "execution_count": 24,
     "metadata": {},
     "output_type": "execute_result"
    },
    {
     "data": {
      "image/png": "[encoded data removed]",
      "text/plain": [
       "<Figure size 1400x600 with 1 Axes>"
      ]
     },
     "metadata": {},
     "output_type": "display_data"
    }
   ],
   "source": [
    "data['Churn'].hist(figsize=size)\n",
    "plt.title('Баланс классов')"
   ]
  },
  {
   "cell_type": "markdown",
   "metadata": {
    "id": "GmEy1oCioDdi"
   },
   "source": [
    "Можно заметить сильный дисбаланс классов. Но метрика ROC-AUC не чувствительная к дисбалансу классов. Поэтому на это можно не обращать внимания."
   ]
  },
  {
   "cell_type": "code",
   "execution_count": 25,
   "metadata": {
    "id": "nNw9rRMepisb"
   },
   "outputs": [],
   "source": [
    "columns = ['Type', 'PaperlessBilling', 'PaymentMethod',\n",
    "           'MonthlyCharges', 'TotalCharges', 'Churn', 'gender', 'SeniorCitizen',\n",
    "           'Partner', 'Dependents', 'InternetService', 'OnlineSecurity',\n",
    "           'OnlineBackup', 'DeviceProtection', 'TechSupport', 'StreamingTV',\n",
    "           'StreamingMovies', 'MultipleLines', 'TotalDays']"
   ]
  },
  {
   "cell_type": "code",
   "execution_count": 26,
   "metadata": {
    "colab": {
     "base_uri": "https://localhost:8080/",
     "height": 1000
    },
    "id": "4LKBiltepU4K",
    "outputId": "3a0d8cd8-3380-4a9d-e93c-4d400c274e1f"
   },
   "outputs": [
    {
     "data": {
      "image/png": "[encoded data removed]",
      "text/plain": [
       "<Figure size 640x480 with 1 Axes>"
      ]
     },
     "metadata": {},
     "output_type": "display_data"
    },
    {
     "data": {
      "text/plain": [
       "<Figure size 2000x3500 with 0 Axes>"
      ]
     },
     "metadata": {},
     "output_type": "display_data"
    },
    {
     "data": {
      "image/png": "[encoded data removed]",
      "text/plain": [
       "<Figure size 640x480 with 1 Axes>"
      ]
     },
     "metadata": {},
     "output_type": "display_data"
    },
    {
     "data": {
      "text/plain": [
       "<Figure size 2000x3500 with 0 Axes>"
      ]
     },
     "metadata": {},
     "output_type": "display_data"
    },
    {
     "data": {
      "image/png": "[encoded data removed]",
      "text/plain": [
       "<Figure size 640x480 with 1 Axes>"
      ]
     },
     "metadata": {},
     "output_type": "display_data"
    },
    {
     "data": {
      "text/plain": [
       "<Figure size 2000x3500 with 0 Axes>"
      ]
     },
     "metadata": {},
     "output_type": "display_data"
    },
    {
     "data": {
      "image/png": "[encoded data removed]",
      "text/plain": [
       "<Figure size 640x480 with 1 Axes>"
      ]
     },
     "metadata": {},
     "output_type": "display_data"
    },
    {
     "data": {
      "text/plain": [
       "<Figure size 2000x3500 with 0 Axes>"
      ]
     },
     "metadata": {},
     "output_type": "display_data"
    },
    {
     "data": {
      "image/png": "[encoded data removed]",
      "text/plain": [
       "<Figure size 640x480 with 1 Axes>"
      ]
     },
     "metadata": {},
     "output_type": "display_data"
    },
    {
     "data": {
      "text/plain": [
       "<Figure size 2000x3500 with 0 Axes>"
      ]
     },
     "metadata": {},
     "output_type": "display_data"
    },
    {
     "data": {
      "image/png": "[encoded data removed]",
      "text/plain": [
       "<Figure size 640x480 with 1 Axes>"
      ]
     },
     "metadata": {},
     "output_type": "display_data"
    },
    {
     "data": {
      "text/plain": [
       "<Figure size 2000x3500 with 0 Axes>"
      ]
     },
     "metadata": {},
     "output_type": "display_data"
    },
    {
     "data": {
      "image/png": "[encoded data removed]",
      "text/plain": [
       "<Figure size 640x480 with 1 Axes>"
      ]
     },
     "metadata": {},
     "output_type": "display_data"
    },
    {
     "data": {
      "text/plain": [
       "<Figure size 2000x3500 with 0 Axes>"
      ]
     },
     "metadata": {},
     "output_type": "display_data"
    },
    {
     "data": {
      "image/png": "[encoded data removed]",
      "text/plain": [
       "<Figure size 640x480 with 1 Axes>"
      ]
     },
     "metadata": {},
     "output_type": "display_data"
    },
    {
     "data": {
      "text/plain": [
       "<Figure size 2000x3500 with 0 Axes>"
      ]
     },
     "metadata": {},
     "output_type": "display_data"
    },
    {
     "data": {
      "image/png": "[encoded data removed]",
      "text/plain": [
       "<Figure size 640x480 with 1 Axes>"
      ]
     },
     "metadata": {},
     "output_type": "display_data"
    },
    {
     "data": {
      "text/plain": [
       "<Figure size 2000x3500 with 0 Axes>"
      ]
     },
     "metadata": {},
     "output_type": "display_data"
    },
    {
     "data": {
      "image/png": "[encoded data removed]",
      "text/plain": [
       "<Figure size 640x480 with 1 Axes>"
      ]
     },
     "metadata": {},
     "output_type": "display_data"
    },
    {
     "data": {
      "text/plain": [
       "<Figure size 2000x3500 with 0 Axes>"
      ]
     },
     "metadata": {},
     "output_type": "display_data"
    },
    {
     "data": {
      "image/png": "[encoded data removed]",
      "text/plain": [
       "<Figure size 640x480 with 1 Axes>"
      ]
     },
     "metadata": {},
     "output_type": "display_data"
    },
    {
     "data": {
      "text/plain": [
       "<Figure size 2000x3500 with 0 Axes>"
      ]
     },
     "metadata": {},
     "output_type": "display_data"
    },
    {
     "data": {
      "image/png": "[encoded data removed]",
      "text/plain": [
       "<Figure size 640x480 with 1 Axes>"
      ]
     },
     "metadata": {},
     "output_type": "display_data"
    },
    {
     "data": {
      "text/plain": [
       "<Figure size 2000x3500 with 0 Axes>"
      ]
     },
     "metadata": {},
     "output_type": "display_data"
    },
    {
     "data": {
      "image/png": "[encoded data removed]",
      "text/plain": [
       "<Figure size 640x480 with 1 Axes>"
      ]
     },
     "metadata": {},
     "output_type": "display_data"
    },
    {
     "data": {
      "text/plain": [
       "<Figure size 2000x3500 with 0 Axes>"
      ]
     },
     "metadata": {},
     "output_type": "display_data"
    },
    {
     "data": {
      "image/png": "[encoded data removed]",
      "text/plain": [
       "<Figure size 640x480 with 1 Axes>"
      ]
     },
     "metadata": {},
     "output_type": "display_data"
    },
    {
     "data": {
      "text/plain": [
       "<Figure size 2000x3500 with 0 Axes>"
      ]
     },
     "metadata": {},
     "output_type": "display_data"
    },
    {
     "data": {
      "image/png": "[encoded data removed]",
      "text/plain": [
       "<Figure size 640x480 with 1 Axes>"
      ]
     },
     "metadata": {},
     "output_type": "display_data"
    },
    {
     "data": {
      "text/plain": [
       "<Figure size 2000x3500 with 0 Axes>"
      ]
     },
     "metadata": {},
     "output_type": "display_data"
    },
    {
     "data": {
      "image/png": "[encoded data removed]",
      "text/plain": [
       "<Figure size 640x480 with 1 Axes>"
      ]
     },
     "metadata": {},
     "output_type": "display_data"
    },
    {
     "data": {
      "text/plain": [
       "<Figure size 2000x3500 with 0 Axes>"
      ]
     },
     "metadata": {},
     "output_type": "display_data"
    },
    {
     "data": {
      "image/png": "[encoded data removed]",
      "text/plain": [
       "<Figure size 640x480 with 1 Axes>"
      ]
     },
     "metadata": {},
     "output_type": "display_data"
    },
    {
     "data": {
      "text/plain": [
       "<Figure size 2000x3500 with 0 Axes>"
      ]
     },
     "metadata": {},
     "output_type": "display_data"
    },
    {
     "data": {
      "image/png": "[encoded data removed]",
      "text/plain": [
       "<Figure size 640x480 with 1 Axes>"
      ]
     },
     "metadata": {},
     "output_type": "display_data"
    },
    {
     "data": {
      "text/plain": [
       "<Figure size 2000x3500 with 0 Axes>"
      ]
     },
     "metadata": {},
     "output_type": "display_data"
    },
    {
     "data": {
      "image/png": "[encoded data removed]",
      "text/plain": [
       "<Figure size 640x480 with 1 Axes>"
      ]
     },
     "metadata": {},
     "output_type": "display_data"
    },
    {
     "data": {
      "text/plain": [
       "<Figure size 2000x3500 with 0 Axes>"
      ]
     },
     "metadata": {},
     "output_type": "display_data"
    }
   ],
   "source": [
    "for i in columns:\n",
    "  data[i].hist()\n",
    "  plt.title(i)\n",
    "  plt.figure(figsize=(20,35))\n",
    "  plt.show()"
   ]
  },
  {
   "cell_type": "markdown",
   "metadata": {
    "id": "CmUlcB-6tz1e"
   },
   "source": [
    "**Вывод:**\n",
    "\n",
    "Можно заметить, что наиболее популярны ежемесячные платежи. Большинство клиентов получает чеки в электронном виде и оплачивает их с помощью электронных платежей. Большинство клиентов использует оптоволокно в качестве подключения к сети Интернет. Все доп. услуги не являются популярными и лишь меньшинство клиентов ими пользуется."
   ]
  },
  {
   "cell_type": "code",
   "execution_count": 27,
   "metadata": {
    "id": "3Y-VvD5ovlL7"
   },
   "outputs": [],
   "source": [
    "charges = data.query('MonthlyCharges < 40')"
   ]
  },
  {
   "cell_type": "code",
   "execution_count": 28,
   "metadata": {
    "colab": {
     "base_uri": "https://localhost:8080/"
    },
    "id": "2Fl7DJTCv20Z",
    "outputId": "b84150c0-f20a-45b3-fc5a-89528106ac76"
   },
   "outputs": [
    {
     "name": "stdout",
     "output_type": "stream",
     "text": [
      "<class 'pandas.core.frame.DataFrame'>\n",
      "Index: 1837 entries, 7590-VHVEG to 4801-JZAZL\n",
      "Data columns (total 21 columns):\n",
      " #   Column            Non-Null Count  Dtype         \n",
      "---  ------            --------------  -----         \n",
      " 0   BeginDate         1837 non-null   datetime64[ns]\n",
      " 1   EndDate           1837 non-null   datetime64[ns]\n",
      " 2   Type              1837 non-null   object        \n",
      " 3   PaperlessBilling  1837 non-null   object        \n",
      " 4   PaymentMethod     1837 non-null   object        \n",
      " 5   MonthlyCharges    1837 non-null   float64       \n",
      " 6   TotalCharges      1837 non-null   float64       \n",
      " 7   Churn             1837 non-null   int32         \n",
      " 8   gender            1837 non-null   object        \n",
      " 9   SeniorCitizen     1837 non-null   int64         \n",
      " 10  Partner           1837 non-null   object        \n",
      " 11  Dependents        1837 non-null   object        \n",
      " 12  InternetService   1837 non-null   object        \n",
      " 13  OnlineSecurity    1837 non-null   object        \n",
      " 14  OnlineBackup      1837 non-null   object        \n",
      " 15  DeviceProtection  1837 non-null   object        \n",
      " 16  TechSupport       1837 non-null   object        \n",
      " 17  StreamingTV       1837 non-null   object        \n",
      " 18  StreamingMovies   1837 non-null   object        \n",
      " 19  MultipleLines     1837 non-null   object        \n",
      " 20  TotalDays         1837 non-null   int64         \n",
      "dtypes: datetime64[ns](2), float64(2), int32(1), int64(2), object(14)\n",
      "memory usage: 308.6+ KB\n"
     ]
    }
   ],
   "source": [
    "charges.info()"
   ]
  },
  {
   "cell_type": "code",
   "execution_count": 29,
   "metadata": {
    "colab": {
     "base_uri": "https://localhost:8080/",
     "height": 452
    },
    "id": "TcuCPPsPxByx",
    "outputId": "46f781ce-1b7b-45c7-ebdd-419b84ee6195"
   },
   "outputs": [
    {
     "data": {
      "text/plain": [
       "<AxesSubplot:>"
      ]
     },
     "execution_count": 29,
     "metadata": {},
     "output_type": "execute_result"
    },
    {
     "data": {
      "image/png": "[encoded data removed]",
      "text/plain": [
       "<Figure size 640x480 with 1 Axes>"
      ]
     },
     "metadata": {},
     "output_type": "display_data"
    }
   ],
   "source": [
    "charges['InternetService'].hist()"
   ]
  },
  {
   "cell_type": "markdown",
   "metadata": {
    "id": "iiVo-p_xxUZC"
   },
   "source": [
    "Было замечено, что большинство платежей менее 30 у.е. (условных единиц).\n",
    "Связано это с тем, что большинство клиентов не пользуется интернетом."
   ]
  },
  {
   "cell_type": "markdown",
   "metadata": {
    "id": "EjMYALNUx6P2"
   },
   "source": [
    "## Чистка выбросов в количественных данных"
   ]
  },
  {
   "cell_type": "code",
   "execution_count": 30,
   "metadata": {
    "id": "1yEFKgE9x9sj"
   },
   "outputs": [],
   "source": [
    "num_columns = ['MonthlyCharges', 'TotalCharges', 'TotalDays']"
   ]
  },
  {
   "cell_type": "code",
   "execution_count": 31,
   "metadata": {
    "colab": {
     "base_uri": "https://localhost:8080/",
     "height": 1000
    },
    "id": "2K-i1LdYyNM7",
    "outputId": "8290a823-db0b-4ddd-910d-fb6aeae1fe01"
   },
   "outputs": [
    {
     "data": {
      "image/png": "[encoded data removed]",
      "text/plain": [
       "<Figure size 640x480 with 1 Axes>"
      ]
     },
     "metadata": {},
     "output_type": "display_data"
    },
    {
     "data": {
      "image/png": "[encoded data removed]",
      "text/plain": [
       "<Figure size 640x480 with 1 Axes>"
      ]
     },
     "metadata": {},
     "output_type": "display_data"
    },
    {
     "data": {
      "image/png": "[encoded data removed]",
      "text/plain": [
       "<Figure size 640x480 with 1 Axes>"
      ]
     },
     "metadata": {},
     "output_type": "display_data"
    }
   ],
   "source": [
    "for i in num_columns:\n",
    "  data[i].hist()\n",
    "  plt.title(i)\n",
    "  plt.show()"
   ]
  },
  {
   "cell_type": "code",
   "execution_count": 32,
   "metadata": {
    "colab": {
     "base_uri": "https://localhost:8080/",
     "height": 1000
    },
    "id": "1XJg3JwfyuSz",
    "outputId": "7a0c0d84-d48c-4126-f3f7-6e247f9574ff"
   },
   "outputs": [
    {
     "data": {
      "image/png": "[encoded data removed]",
      "text/plain": [
       "<Figure size 640x480 with 1 Axes>"
      ]
     },
     "metadata": {},
     "output_type": "display_data"
    },
    {
     "data": {
      "image/png": "[encoded data removed]",
      "text/plain": [
       "<Figure size 640x480 with 1 Axes>"
      ]
     },
     "metadata": {},
     "output_type": "display_data"
    },
    {
     "data": {
      "image/png": "[encoded data removed]",
      "text/plain": [
       "<Figure size 640x480 with 1 Axes>"
      ]
     },
     "metadata": {},
     "output_type": "display_data"
    }
   ],
   "source": [
    "for i in num_columns:\n",
    "  plt.boxplot(data[i])\n",
    "  plt.title(i)\n",
    "  plt.show()"
   ]
  },
  {
   "cell_type": "markdown",
   "metadata": {
    "id": "JBjOmZAB09tm"
   },
   "source": [
    "В столбце `TotalCharges` замечены выбросы НО их значения максимально приближены к верхнему усу. На графике нет аномальных значений, эти выбросы лишь говорят о существовании клиентов которые долго пользуются данным оператором. Они оказались за пределами диаграммы размаха скорее всего из-за большого кол-ва новых пользователей или постоянных пользователей но сумма их платежей очень мала. В данном случае чистка не нужна, более того, если же ее применить, то мы потеряем более 3 тыс. данных, что невозможно при общем кол-во данных в 7 тыс."
   ]
  },
  {
   "cell_type": "markdown",
   "metadata": {
    "id": "OUe7X7JYjKcs"
   },
   "source": [
    "# Подготовка к обучению моделей"
   ]
  },
  {
   "cell_type": "code",
   "execution_count": 33,
   "metadata": {
    "id": "8j9rrnxnjK6K"
   },
   "outputs": [],
   "source": [
    "# удалим ненужные столбцы\n",
    "\n",
    "del data['BeginDate'], data['EndDate']"
   ]
  },
  {
   "cell_type": "code",
   "execution_count": 34,
   "metadata": {
    "colab": {
     "base_uri": "https://localhost:8080/"
    },
    "id": "ER9yZdkRjMpy",
    "outputId": "751106fa-ccf4-4b09-a3ad-b0c283e38d30"
   },
   "outputs": [
    {
     "name": "stdout",
     "output_type": "stream",
     "text": [
      "<class 'pandas.core.frame.DataFrame'>\n",
      "Index: 7043 entries, 7590-VHVEG to 3186-AJIEK\n",
      "Data columns (total 19 columns):\n",
      " #   Column            Non-Null Count  Dtype  \n",
      "---  ------            --------------  -----  \n",
      " 0   Type              7043 non-null   object \n",
      " 1   PaperlessBilling  7043 non-null   object \n",
      " 2   PaymentMethod     7043 non-null   object \n",
      " 3   MonthlyCharges    7043 non-null   float64\n",
      " 4   TotalCharges      7043 non-null   float64\n",
      " 5   Churn             7043 non-null   int32  \n",
      " 6   gender            7043 non-null   object \n",
      " 7   SeniorCitizen     7043 non-null   int64  \n",
      " 8   Partner           7043 non-null   object \n",
      " 9   Dependents        7043 non-null   object \n",
      " 10  InternetService   7043 non-null   object \n",
      " 11  OnlineSecurity    7043 non-null   object \n",
      " 12  OnlineBackup      7043 non-null   object \n",
      " 13  DeviceProtection  7043 non-null   object \n",
      " 14  TechSupport       7043 non-null   object \n",
      " 15  StreamingTV       7043 non-null   object \n",
      " 16  StreamingMovies   7043 non-null   object \n",
      " 17  MultipleLines     7043 non-null   object \n",
      " 18  TotalDays         7043 non-null   int64  \n",
      "dtypes: float64(2), int32(1), int64(2), object(14)\n",
      "memory usage: 1.3+ MB\n"
     ]
    }
   ],
   "source": [
    "data.info()"
   ]
  },
  {
   "cell_type": "code",
   "execution_count": 35,
   "metadata": {
    "colab": {
     "base_uri": "https://localhost:8080/"
    },
    "id": "IPRMVyv1jPW5",
    "outputId": "78ff926c-30d3-4022-f6c6-0009d281a5d5"
   },
   "outputs": [
    {
     "name": "stdout",
     "output_type": "stream",
     "text": [
      "(5634, 18)\n",
      "(1409, 18)\n",
      "(5634,)\n",
      "(1409,)\n"
     ]
    }
   ],
   "source": [
    "# выделяем таргеты и фичи, делим на выборки \n",
    "\n",
    "target = data['Churn']\n",
    "features = data.drop(columns=['Churn'])\n",
    "\n",
    "features_train, features_test, target_train, target_test = train_test_split(features, target,test_size=0.2, random_state=RANDOM_STATE)\n",
    "\n",
    "print(features_train.shape)\n",
    "print(features_test.shape)\n",
    "print(target_train.shape)\n",
    "print(target_test.shape)  "
   ]
  },
  {
   "cell_type": "code",
   "execution_count": 36,
   "metadata": {
    "colab": {
     "base_uri": "https://localhost:8080/"
    },
    "id": "MaXg8V4HfF1v",
    "outputId": "64e33f73-a2bf-464d-d5a0-b8cfe8b8db0a"
   },
   "outputs": [
    {
     "data": {
      "text/plain": [
       "['MonthlyCharges', 'TotalCharges', 'TotalDays']"
      ]
     },
     "execution_count": 36,
     "metadata": {},
     "output_type": "execute_result"
    }
   ],
   "source": [
    "#'SeniorCitizen' — категориальный бинарный признак\n",
    "\n",
    "numeric_columns = features_train.select_dtypes(exclude='object').columns.to_list()\n",
    "numeric_columns.remove('SeniorCitizen')\n",
    "numeric_columns"
   ]
  },
  {
   "cell_type": "code",
   "execution_count": 37,
   "metadata": {
    "colab": {
     "base_uri": "https://localhost:8080/"
    },
    "id": "ZdqRt0DRfF1x",
    "outputId": "1f4c2f0b-3d7e-4f96-ce6e-4e4fd521ab1f"
   },
   "outputs": [
    {
     "data": {
      "text/plain": [
       "['Type',\n",
       " 'PaperlessBilling',\n",
       " 'PaymentMethod',\n",
       " 'gender',\n",
       " 'Partner',\n",
       " 'Dependents',\n",
       " 'InternetService',\n",
       " 'OnlineSecurity',\n",
       " 'OnlineBackup',\n",
       " 'DeviceProtection',\n",
       " 'TechSupport',\n",
       " 'StreamingTV',\n",
       " 'StreamingMovies',\n",
       " 'MultipleLines']"
      ]
     },
     "execution_count": 37,
     "metadata": {},
     "output_type": "execute_result"
    }
   ],
   "source": [
    "#категориальные признаки\n",
    "\n",
    "categorial_columns = features_train.select_dtypes(include='object').columns.to_list()\n",
    "categorial_columns"
   ]
  },
  {
   "cell_type": "code",
   "execution_count": 38,
   "metadata": {
    "id": "5cmtfpRPfF1y"
   },
   "outputs": [],
   "source": [
    "features_train_ohe = features_train.copy()\n",
    "features_test_ohe = features_test.copy()"
   ]
  },
  {
   "cell_type": "code",
   "execution_count": 39,
   "metadata": {
    "colab": {
     "base_uri": "https://localhost:8080/",
     "height": 435
    },
    "id": "ZSzkjEJKfF1y",
    "outputId": "f1f4e29d-86af-4911-c9ef-5dfb40b95e26"
   },
   "outputs": [
    {
     "data": {
      "text/html": [
       "<div>\n",
       "<style scoped>\n",
       "    .dataframe tbody tr th:only-of-type {\n",
       "        vertical-align: middle;\n",
       "    }\n",
       "\n",
       "    .dataframe tbody tr th {\n",
       "        vertical-align: top;\n",
       "    }\n",
       "\n",
       "    .dataframe thead th {\n",
       "        text-align: right;\n",
       "    }\n",
       "</style>\n",
       "<table border=\"1\" class=\"dataframe\">\n",
       "  <thead>\n",
       "    <tr style=\"text-align: right;\">\n",
       "      <th></th>\n",
       "      <th>MonthlyCharges</th>\n",
       "      <th>TotalCharges</th>\n",
       "      <th>SeniorCitizen</th>\n",
       "      <th>TotalDays</th>\n",
       "      <th>Type_One year</th>\n",
       "      <th>Type_Two year</th>\n",
       "      <th>PaperlessBilling_Yes</th>\n",
       "      <th>PaymentMethod_Credit card (automatic)</th>\n",
       "      <th>PaymentMethod_Electronic check</th>\n",
       "      <th>PaymentMethod_Mailed check</th>\n",
       "      <th>...</th>\n",
       "      <th>Dependents_Yes</th>\n",
       "      <th>InternetService_Fiber optic</th>\n",
       "      <th>InternetService_No</th>\n",
       "      <th>OnlineSecurity_Yes</th>\n",
       "      <th>OnlineBackup_Yes</th>\n",
       "      <th>DeviceProtection_Yes</th>\n",
       "      <th>TechSupport_Yes</th>\n",
       "      <th>StreamingTV_Yes</th>\n",
       "      <th>StreamingMovies_Yes</th>\n",
       "      <th>MultipleLines_Yes</th>\n",
       "    </tr>\n",
       "    <tr>\n",
       "      <th>customerID</th>\n",
       "      <th></th>\n",
       "      <th></th>\n",
       "      <th></th>\n",
       "      <th></th>\n",
       "      <th></th>\n",
       "      <th></th>\n",
       "      <th></th>\n",
       "      <th></th>\n",
       "      <th></th>\n",
       "      <th></th>\n",
       "      <th></th>\n",
       "      <th></th>\n",
       "      <th></th>\n",
       "      <th></th>\n",
       "      <th></th>\n",
       "      <th></th>\n",
       "      <th></th>\n",
       "      <th></th>\n",
       "      <th></th>\n",
       "      <th></th>\n",
       "      <th></th>\n",
       "    </tr>\n",
       "  </thead>\n",
       "  <tbody>\n",
       "    <tr>\n",
       "      <th>3392-EHMNK</th>\n",
       "      <td>0.974597</td>\n",
       "      <td>1.989671</td>\n",
       "      <td>0</td>\n",
       "      <td>1.676391</td>\n",
       "      <td>0.0</td>\n",
       "      <td>1.0</td>\n",
       "      <td>0.0</td>\n",
       "      <td>1.0</td>\n",
       "      <td>0.0</td>\n",
       "      <td>0.0</td>\n",
       "      <td>...</td>\n",
       "      <td>1.0</td>\n",
       "      <td>1.0</td>\n",
       "      <td>0.0</td>\n",
       "      <td>0.0</td>\n",
       "      <td>1.0</td>\n",
       "      <td>0.0</td>\n",
       "      <td>1.0</td>\n",
       "      <td>1.0</td>\n",
       "      <td>0.0</td>\n",
       "      <td>1.0</td>\n",
       "    </tr>\n",
       "    <tr>\n",
       "      <th>1240-HCBOH</th>\n",
       "      <td>-1.288535</td>\n",
       "      <td>-0.175523</td>\n",
       "      <td>0</td>\n",
       "      <td>1.676391</td>\n",
       "      <td>0.0</td>\n",
       "      <td>1.0</td>\n",
       "      <td>1.0</td>\n",
       "      <td>0.0</td>\n",
       "      <td>0.0</td>\n",
       "      <td>1.0</td>\n",
       "      <td>...</td>\n",
       "      <td>0.0</td>\n",
       "      <td>0.0</td>\n",
       "      <td>1.0</td>\n",
       "      <td>0.0</td>\n",
       "      <td>0.0</td>\n",
       "      <td>0.0</td>\n",
       "      <td>0.0</td>\n",
       "      <td>0.0</td>\n",
       "      <td>0.0</td>\n",
       "      <td>1.0</td>\n",
       "    </tr>\n",
       "    <tr>\n",
       "      <th>1442-OKRJE</th>\n",
       "      <td>1.275793</td>\n",
       "      <td>2.552350</td>\n",
       "      <td>0</td>\n",
       "      <td>1.630862</td>\n",
       "      <td>1.0</td>\n",
       "      <td>0.0</td>\n",
       "      <td>1.0</td>\n",
       "      <td>0.0</td>\n",
       "      <td>0.0</td>\n",
       "      <td>0.0</td>\n",
       "      <td>...</td>\n",
       "      <td>1.0</td>\n",
       "      <td>1.0</td>\n",
       "      <td>0.0</td>\n",
       "      <td>1.0</td>\n",
       "      <td>1.0</td>\n",
       "      <td>1.0</td>\n",
       "      <td>0.0</td>\n",
       "      <td>1.0</td>\n",
       "      <td>1.0</td>\n",
       "      <td>0.0</td>\n",
       "    </tr>\n",
       "    <tr>\n",
       "      <th>8595-SIZNC</th>\n",
       "      <td>-1.305176</td>\n",
       "      <td>-0.738919</td>\n",
       "      <td>1</td>\n",
       "      <td>-0.335679</td>\n",
       "      <td>1.0</td>\n",
       "      <td>0.0</td>\n",
       "      <td>0.0</td>\n",
       "      <td>0.0</td>\n",
       "      <td>0.0</td>\n",
       "      <td>0.0</td>\n",
       "      <td>...</td>\n",
       "      <td>0.0</td>\n",
       "      <td>0.0</td>\n",
       "      <td>1.0</td>\n",
       "      <td>0.0</td>\n",
       "      <td>0.0</td>\n",
       "      <td>0.0</td>\n",
       "      <td>0.0</td>\n",
       "      <td>0.0</td>\n",
       "      <td>0.0</td>\n",
       "      <td>1.0</td>\n",
       "    </tr>\n",
       "    <tr>\n",
       "      <th>4039-PIMHX</th>\n",
       "      <td>-0.499767</td>\n",
       "      <td>0.211090</td>\n",
       "      <td>1</td>\n",
       "      <td>0.870094</td>\n",
       "      <td>0.0</td>\n",
       "      <td>1.0</td>\n",
       "      <td>0.0</td>\n",
       "      <td>0.0</td>\n",
       "      <td>0.0</td>\n",
       "      <td>1.0</td>\n",
       "      <td>...</td>\n",
       "      <td>0.0</td>\n",
       "      <td>0.0</td>\n",
       "      <td>0.0</td>\n",
       "      <td>0.0</td>\n",
       "      <td>1.0</td>\n",
       "      <td>0.0</td>\n",
       "      <td>0.0</td>\n",
       "      <td>0.0</td>\n",
       "      <td>0.0</td>\n",
       "      <td>0.0</td>\n",
       "    </tr>\n",
       "  </tbody>\n",
       "</table>\n",
       "<p>5 rows × 22 columns</p>\n",
       "</div>"
      ],
      "text/plain": [
       "            MonthlyCharges  TotalCharges  SeniorCitizen  TotalDays  \\\n",
       "customerID                                                           \n",
       "3392-EHMNK        0.974597      1.989671              0   1.676391   \n",
       "1240-HCBOH       -1.288535     -0.175523              0   1.676391   \n",
       "1442-OKRJE        1.275793      2.552350              0   1.630862   \n",
       "8595-SIZNC       -1.305176     -0.738919              1  -0.335679   \n",
       "4039-PIMHX       -0.499767      0.211090              1   0.870094   \n",
       "\n",
       "            Type_One year  Type_Two year  PaperlessBilling_Yes  \\\n",
       "customerID                                                       \n",
       "3392-EHMNK            0.0            1.0                   0.0   \n",
       "1240-HCBOH            0.0            1.0                   1.0   \n",
       "1442-OKRJE            1.0            0.0                   1.0   \n",
       "8595-SIZNC            1.0            0.0                   0.0   \n",
       "4039-PIMHX            0.0            1.0                   0.0   \n",
       "\n",
       "            PaymentMethod_Credit card (automatic)  \\\n",
       "customerID                                          \n",
       "3392-EHMNK                                    1.0   \n",
       "1240-HCBOH                                    0.0   \n",
       "1442-OKRJE                                    0.0   \n",
       "8595-SIZNC                                    0.0   \n",
       "4039-PIMHX                                    0.0   \n",
       "\n",
       "            PaymentMethod_Electronic check  PaymentMethod_Mailed check  ...  \\\n",
       "customerID                                                              ...   \n",
       "3392-EHMNK                             0.0                         0.0  ...   \n",
       "1240-HCBOH                             0.0                         1.0  ...   \n",
       "1442-OKRJE                             0.0                         0.0  ...   \n",
       "8595-SIZNC                             0.0                         0.0  ...   \n",
       "4039-PIMHX                             0.0                         1.0  ...   \n",
       "\n",
       "            Dependents_Yes  InternetService_Fiber optic  InternetService_No  \\\n",
       "customerID                                                                    \n",
       "3392-EHMNK             1.0                          1.0                 0.0   \n",
       "1240-HCBOH             0.0                          0.0                 1.0   \n",
       "1442-OKRJE             1.0                          1.0                 0.0   \n",
       "8595-SIZNC             0.0                          0.0                 1.0   \n",
       "4039-PIMHX             0.0                          0.0                 0.0   \n",
       "\n",
       "            OnlineSecurity_Yes  OnlineBackup_Yes  DeviceProtection_Yes  \\\n",
       "customerID                                                               \n",
       "3392-EHMNK                 0.0               1.0                   0.0   \n",
       "1240-HCBOH                 0.0               0.0                   0.0   \n",
       "1442-OKRJE                 1.0               1.0                   1.0   \n",
       "8595-SIZNC                 0.0               0.0                   0.0   \n",
       "4039-PIMHX                 0.0               1.0                   0.0   \n",
       "\n",
       "            TechSupport_Yes  StreamingTV_Yes  StreamingMovies_Yes  \\\n",
       "customerID                                                          \n",
       "3392-EHMNK              1.0              1.0                  0.0   \n",
       "1240-HCBOH              0.0              0.0                  0.0   \n",
       "1442-OKRJE              0.0              1.0                  1.0   \n",
       "8595-SIZNC              0.0              0.0                  0.0   \n",
       "4039-PIMHX              0.0              0.0                  0.0   \n",
       "\n",
       "            MultipleLines_Yes  \n",
       "customerID                     \n",
       "3392-EHMNK                1.0  \n",
       "1240-HCBOH                1.0  \n",
       "1442-OKRJE                0.0  \n",
       "8595-SIZNC                1.0  \n",
       "4039-PIMHX                0.0  \n",
       "\n",
       "[5 rows x 22 columns]"
      ]
     },
     "execution_count": 39,
     "metadata": {},
     "output_type": "execute_result"
    }
   ],
   "source": [
    "# удаляем первый признак из закодированных, обходя тем самым dummy-ловушку\n",
    "\n",
    "encoder_ohe = OneHotEncoder(drop='first', handle_unknown='ignore', sparse=False)\n",
    "\n",
    "encoder_ohe.fit(features_train_ohe[categorial_columns])\n",
    "features_train_ohe[\n",
    "    encoder_ohe.get_feature_names_out()\n",
    "] = encoder_ohe.transform(features_train_ohe[categorial_columns])\n",
    "\n",
    "features_train_ohe = features_train_ohe.drop(categorial_columns, axis=1)\n",
    "\n",
    "# создаём скелер\n",
    "\n",
    "scaler = StandardScaler()\n",
    "features_train_ohe[numeric_columns] = scaler.fit_transform(features_train_ohe[numeric_columns])\n",
    "\n",
    "features_train_ohe.head()"
   ]
  },
  {
   "cell_type": "code",
   "execution_count": 40,
   "metadata": {
    "colab": {
     "base_uri": "https://localhost:8080/",
     "height": 418
    },
    "id": "j0qq7s4MfF10",
    "outputId": "b52677e7-b4bb-4219-e508-e87f068c6667",
    "scrolled": false
   },
   "outputs": [
    {
     "data": {
      "text/html": [
       "<div>\n",
       "<style scoped>\n",
       "    .dataframe tbody tr th:only-of-type {\n",
       "        vertical-align: middle;\n",
       "    }\n",
       "\n",
       "    .dataframe tbody tr th {\n",
       "        vertical-align: top;\n",
       "    }\n",
       "\n",
       "    .dataframe thead th {\n",
       "        text-align: right;\n",
       "    }\n",
       "</style>\n",
       "<table border=\"1\" class=\"dataframe\">\n",
       "  <thead>\n",
       "    <tr style=\"text-align: right;\">\n",
       "      <th></th>\n",
       "      <th>MonthlyCharges</th>\n",
       "      <th>TotalCharges</th>\n",
       "      <th>SeniorCitizen</th>\n",
       "      <th>TotalDays</th>\n",
       "      <th>Type_One year</th>\n",
       "      <th>Type_Two year</th>\n",
       "      <th>PaperlessBilling_Yes</th>\n",
       "      <th>PaymentMethod_Credit card (automatic)</th>\n",
       "      <th>PaymentMethod_Electronic check</th>\n",
       "      <th>PaymentMethod_Mailed check</th>\n",
       "      <th>...</th>\n",
       "      <th>Dependents_Yes</th>\n",
       "      <th>InternetService_Fiber optic</th>\n",
       "      <th>InternetService_No</th>\n",
       "      <th>OnlineSecurity_Yes</th>\n",
       "      <th>OnlineBackup_Yes</th>\n",
       "      <th>DeviceProtection_Yes</th>\n",
       "      <th>TechSupport_Yes</th>\n",
       "      <th>StreamingTV_Yes</th>\n",
       "      <th>StreamingMovies_Yes</th>\n",
       "      <th>MultipleLines_Yes</th>\n",
       "    </tr>\n",
       "    <tr>\n",
       "      <th>customerID</th>\n",
       "      <th></th>\n",
       "      <th></th>\n",
       "      <th></th>\n",
       "      <th></th>\n",
       "      <th></th>\n",
       "      <th></th>\n",
       "      <th></th>\n",
       "      <th></th>\n",
       "      <th></th>\n",
       "      <th></th>\n",
       "      <th></th>\n",
       "      <th></th>\n",
       "      <th></th>\n",
       "      <th></th>\n",
       "      <th></th>\n",
       "      <th></th>\n",
       "      <th></th>\n",
       "      <th></th>\n",
       "      <th></th>\n",
       "      <th></th>\n",
       "      <th></th>\n",
       "    </tr>\n",
       "  </thead>\n",
       "  <tbody>\n",
       "    <tr>\n",
       "      <th>8042-RNLKO</th>\n",
       "      <td>-1.310168</td>\n",
       "      <td>-0.208314</td>\n",
       "      <td>0</td>\n",
       "      <td>1.630862</td>\n",
       "      <td>1.0</td>\n",
       "      <td>0.0</td>\n",
       "      <td>0.0</td>\n",
       "      <td>0.0</td>\n",
       "      <td>0.0</td>\n",
       "      <td>0.0</td>\n",
       "      <td>...</td>\n",
       "      <td>0.0</td>\n",
       "      <td>0.0</td>\n",
       "      <td>1.0</td>\n",
       "      <td>0.0</td>\n",
       "      <td>0.0</td>\n",
       "      <td>0.0</td>\n",
       "      <td>0.0</td>\n",
       "      <td>0.0</td>\n",
       "      <td>0.0</td>\n",
       "      <td>1.0</td>\n",
       "    </tr>\n",
       "    <tr>\n",
       "      <th>4282-YMKNA</th>\n",
       "      <td>0.330602</td>\n",
       "      <td>-0.615809</td>\n",
       "      <td>0</td>\n",
       "      <td>-0.826213</td>\n",
       "      <td>0.0</td>\n",
       "      <td>0.0</td>\n",
       "      <td>1.0</td>\n",
       "      <td>0.0</td>\n",
       "      <td>1.0</td>\n",
       "      <td>0.0</td>\n",
       "      <td>...</td>\n",
       "      <td>0.0</td>\n",
       "      <td>1.0</td>\n",
       "      <td>0.0</td>\n",
       "      <td>0.0</td>\n",
       "      <td>0.0</td>\n",
       "      <td>0.0</td>\n",
       "      <td>0.0</td>\n",
       "      <td>0.0</td>\n",
       "      <td>0.0</td>\n",
       "      <td>1.0</td>\n",
       "    </tr>\n",
       "    <tr>\n",
       "      <th>1113-IUJYX</th>\n",
       "      <td>1.368981</td>\n",
       "      <td>-0.073056</td>\n",
       "      <td>0</td>\n",
       "      <td>-0.514856</td>\n",
       "      <td>1.0</td>\n",
       "      <td>0.0</td>\n",
       "      <td>0.0</td>\n",
       "      <td>0.0</td>\n",
       "      <td>0.0</td>\n",
       "      <td>1.0</td>\n",
       "      <td>...</td>\n",
       "      <td>0.0</td>\n",
       "      <td>1.0</td>\n",
       "      <td>0.0</td>\n",
       "      <td>1.0</td>\n",
       "      <td>1.0</td>\n",
       "      <td>0.0</td>\n",
       "      <td>1.0</td>\n",
       "      <td>1.0</td>\n",
       "      <td>1.0</td>\n",
       "      <td>0.0</td>\n",
       "    </tr>\n",
       "    <tr>\n",
       "      <th>3030-ZKIWL</th>\n",
       "      <td>-1.489888</td>\n",
       "      <td>-0.996761</td>\n",
       "      <td>0</td>\n",
       "      <td>-1.275625</td>\n",
       "      <td>0.0</td>\n",
       "      <td>0.0</td>\n",
       "      <td>0.0</td>\n",
       "      <td>0.0</td>\n",
       "      <td>0.0</td>\n",
       "      <td>1.0</td>\n",
       "      <td>...</td>\n",
       "      <td>0.0</td>\n",
       "      <td>0.0</td>\n",
       "      <td>1.0</td>\n",
       "      <td>0.0</td>\n",
       "      <td>0.0</td>\n",
       "      <td>0.0</td>\n",
       "      <td>0.0</td>\n",
       "      <td>0.0</td>\n",
       "      <td>0.0</td>\n",
       "      <td>0.0</td>\n",
       "    </tr>\n",
       "    <tr>\n",
       "      <th>2451-YMUXS</th>\n",
       "      <td>-0.008867</td>\n",
       "      <td>0.557939</td>\n",
       "      <td>1</td>\n",
       "      <td>0.959682</td>\n",
       "      <td>0.0</td>\n",
       "      <td>1.0</td>\n",
       "      <td>1.0</td>\n",
       "      <td>0.0</td>\n",
       "      <td>0.0</td>\n",
       "      <td>0.0</td>\n",
       "      <td>...</td>\n",
       "      <td>0.0</td>\n",
       "      <td>0.0</td>\n",
       "      <td>0.0</td>\n",
       "      <td>1.0</td>\n",
       "      <td>1.0</td>\n",
       "      <td>0.0</td>\n",
       "      <td>1.0</td>\n",
       "      <td>0.0</td>\n",
       "      <td>0.0</td>\n",
       "      <td>1.0</td>\n",
       "    </tr>\n",
       "  </tbody>\n",
       "</table>\n",
       "<p>5 rows × 22 columns</p>\n",
       "</div>"
      ],
      "text/plain": [
       "            MonthlyCharges  TotalCharges  SeniorCitizen  TotalDays  \\\n",
       "customerID                                                           \n",
       "8042-RNLKO       -1.310168     -0.208314              0   1.630862   \n",
       "4282-YMKNA        0.330602     -0.615809              0  -0.826213   \n",
       "1113-IUJYX        1.368981     -0.073056              0  -0.514856   \n",
       "3030-ZKIWL       -1.489888     -0.996761              0  -1.275625   \n",
       "2451-YMUXS       -0.008867      0.557939              1   0.959682   \n",
       "\n",
       "            Type_One year  Type_Two year  PaperlessBilling_Yes  \\\n",
       "customerID                                                       \n",
       "8042-RNLKO            1.0            0.0                   0.0   \n",
       "4282-YMKNA            0.0            0.0                   1.0   \n",
       "1113-IUJYX            1.0            0.0                   0.0   \n",
       "3030-ZKIWL            0.0            0.0                   0.0   \n",
       "2451-YMUXS            0.0            1.0                   1.0   \n",
       "\n",
       "            PaymentMethod_Credit card (automatic)  \\\n",
       "customerID                                          \n",
       "8042-RNLKO                                    0.0   \n",
       "4282-YMKNA                                    0.0   \n",
       "1113-IUJYX                                    0.0   \n",
       "3030-ZKIWL                                    0.0   \n",
       "2451-YMUXS                                    0.0   \n",
       "\n",
       "            PaymentMethod_Electronic check  PaymentMethod_Mailed check  ...  \\\n",
       "customerID                                                              ...   \n",
       "8042-RNLKO                             0.0                         0.0  ...   \n",
       "4282-YMKNA                             1.0                         0.0  ...   \n",
       "1113-IUJYX                             0.0                         1.0  ...   \n",
       "3030-ZKIWL                             0.0                         1.0  ...   \n",
       "2451-YMUXS                             0.0                         0.0  ...   \n",
       "\n",
       "            Dependents_Yes  InternetService_Fiber optic  InternetService_No  \\\n",
       "customerID                                                                    \n",
       "8042-RNLKO             0.0                          0.0                 1.0   \n",
       "4282-YMKNA             0.0                          1.0                 0.0   \n",
       "1113-IUJYX             0.0                          1.0                 0.0   \n",
       "3030-ZKIWL             0.0                          0.0                 1.0   \n",
       "2451-YMUXS             0.0                          0.0                 0.0   \n",
       "\n",
       "            OnlineSecurity_Yes  OnlineBackup_Yes  DeviceProtection_Yes  \\\n",
       "customerID                                                               \n",
       "8042-RNLKO                 0.0               0.0                   0.0   \n",
       "4282-YMKNA                 0.0               0.0                   0.0   \n",
       "1113-IUJYX                 1.0               1.0                   0.0   \n",
       "3030-ZKIWL                 0.0               0.0                   0.0   \n",
       "2451-YMUXS                 1.0               1.0                   0.0   \n",
       "\n",
       "            TechSupport_Yes  StreamingTV_Yes  StreamingMovies_Yes  \\\n",
       "customerID                                                          \n",
       "8042-RNLKO              0.0              0.0                  0.0   \n",
       "4282-YMKNA              0.0              0.0                  0.0   \n",
       "1113-IUJYX              1.0              1.0                  1.0   \n",
       "3030-ZKIWL              0.0              0.0                  0.0   \n",
       "2451-YMUXS              1.0              0.0                  0.0   \n",
       "\n",
       "            MultipleLines_Yes  \n",
       "customerID                     \n",
       "8042-RNLKO                1.0  \n",
       "4282-YMKNA                1.0  \n",
       "1113-IUJYX                0.0  \n",
       "3030-ZKIWL                0.0  \n",
       "2451-YMUXS                1.0  \n",
       "\n",
       "[5 rows x 22 columns]"
      ]
     },
     "execution_count": 40,
     "metadata": {},
     "output_type": "execute_result"
    }
   ],
   "source": [
    "features_test_ohe[\n",
    "    encoder_ohe.get_feature_names_out()\n",
    "] = encoder_ohe.transform(features_test_ohe[categorial_columns])\n",
    "\n",
    "features_test_ohe = features_test_ohe.drop(categorial_columns, axis=1)\n",
    "\n",
    "features_test_ohe[numeric_columns] = scaler.transform(\n",
    "    features_test_ohe[numeric_columns]\n",
    ")\n",
    "\n",
    "features_test_ohe.head()"
   ]
  },
  {
   "cell_type": "code",
   "execution_count": 41,
   "metadata": {
    "colab": {
     "base_uri": "https://localhost:8080/"
    },
    "id": "qDsIBleNfF16",
    "outputId": "2de25131-28af-4d22-c214-88ae38955602"
   },
   "outputs": [
    {
     "name": "stdout",
     "output_type": "stream",
     "text": [
      "(1409, 22)\n",
      "(5634, 22)\n"
     ]
    }
   ],
   "source": [
    "print(features_test_ohe.shape)\n",
    "print(features_train_ohe.shape)"
   ]
  },
  {
   "cell_type": "markdown",
   "metadata": {
    "id": "O_q7LOkwk1ml"
   },
   "source": [
    "# Обучение моделей"
   ]
  },
  {
   "cell_type": "markdown",
   "metadata": {
    "id": "fmg8PoxxwAdT"
   },
   "source": [
    "## RandomForest"
   ]
  },
  {
   "cell_type": "code",
   "execution_count": 42,
   "metadata": {
    "colab": {
     "base_uri": "https://localhost:8080/"
    },
    "id": "qYXyWI-dfF2C",
    "outputId": "f4ab0e45-75f9-4bd0-ccab-2da1466e1239"
   },
   "outputs": [
    {
     "name": "stdout",
     "output_type": "stream",
     "text": [
      "Wall time: 19.9 s\n"
     ]
    },
    {
     "data": {
      "text/plain": [
       "0.8130141376982145"
      ]
     },
     "execution_count": 42,
     "metadata": {},
     "output_type": "execute_result"
    }
   ],
   "source": [
    "%%time\n",
    "\n",
    "rf = RandomForestClassifier(random_state=RANDOM_STATE)\n",
    "\n",
    "rf_param = {'max_depth': [x for x in range(8, 12, 2)],\n",
    "            'n_estimators': [x for x in range(10, 15, 1)]}\n",
    "\n",
    "cv = RepeatedStratifiedKFold(n_splits=5, n_repeats=10, random_state=RANDOM_STATE)\n",
    "\n",
    "rf_grid = GridSearchCV(rf, rf_param, cv=cv, scoring='roc_auc', n_jobs=-1)\n",
    "\n",
    "rf_grid.fit(features_train_ohe, target_train)\n",
    "\n",
    "rf_grid.best_score_"
   ]
  },
  {
   "cell_type": "markdown",
   "metadata": {
    "id": "CzpxRE5En6We"
   },
   "source": [
    "## LightGBM"
   ]
  },
  {
   "cell_type": "code",
   "execution_count": 43,
   "metadata": {
    "colab": {
     "base_uri": "https://localhost:8080/"
    },
    "id": "LKE-83GcBmZr",
    "outputId": "1efdb95a-fa6d-41af-e488-cd0907f4b47b"
   },
   "outputs": [
    {
     "name": "stdout",
     "output_type": "stream",
     "text": [
      "Wall time: 51 s\n"
     ]
    },
    {
     "data": {
      "text/plain": [
       "0.8899934867477529"
      ]
     },
     "execution_count": 43,
     "metadata": {},
     "output_type": "execute_result"
    }
   ],
   "source": [
    "%%time\n",
    "\n",
    "lgbm = LGBMClassifier(random_state=RANDOM_STATE)\n",
    "\n",
    "lgbm_param = {'learning_rate': [0.001, 0.1, 0.3],\n",
    "             'max_depth': [x for x in range(4, 16, 2)]}\n",
    "\n",
    "cv = RepeatedStratifiedKFold(n_splits=5, n_repeats=10, random_state=RANDOM_STATE)\n",
    "\n",
    "lgbm_grid = GridSearchCV(lgbm, lgbm_param, scoring='roc_auc', cv=cv, n_jobs=-1)\n",
    "\n",
    "lgbm_grid.fit(features_train_ohe, target_train)\n",
    "\n",
    "lgbm_grid.best_score_"
   ]
  },
  {
   "cell_type": "markdown",
   "metadata": {
    "id": "Dc1ONvh-n8Ja"
   },
   "source": [
    "## Catboost"
   ]
  },
  {
   "cell_type": "code",
   "execution_count": 44,
   "metadata": {
    "colab": {
     "base_uri": "https://localhost:8080/"
    },
    "id": "yFJc8W1CSIk5",
    "outputId": "b754b82a-83e3-4a8f-a0c7-d73644cbe093"
   },
   "outputs": [
    {
     "name": "stdout",
     "output_type": "stream",
     "text": [
      "Wall time: 3min 45s\n"
     ]
    },
    {
     "data": {
      "text/plain": [
       "0.822469418687365"
      ]
     },
     "execution_count": 44,
     "metadata": {},
     "output_type": "execute_result"
    }
   ],
   "source": [
    "%%time\n",
    "\n",
    "cat = CatBoostClassifier(random_state=RANDOM_STATE, verbose=0, n_estimators=100)\n",
    "\n",
    "cat_param = {'n_estimators':[x for x in range(10, 15, 1)],\n",
    "             'depth':[x for x in range(8, 12, 2)],\n",
    "             'learning_rate':[0.001, 0.1, 0.3]}\n",
    "\n",
    "cv = RepeatedStratifiedKFold(n_splits=5, n_repeats=10, random_state=RANDOM_STATE)\n",
    "\n",
    "cat_grid = GridSearchCV(cat, cat_param, cv=cv, scoring='roc_auc', n_jobs=-1)\n",
    "\n",
    "cat_grid.fit(features_train_ohe, target_train)\n",
    "\n",
    "cat_grid.best_score_"
   ]
  },
  {
   "cell_type": "markdown",
   "metadata": {
    "id": "uJCUxrbefF2J"
   },
   "source": [
    "**Вывод**\n",
    "\n",
    "Наилучшая модель - LightGBM. Ее показатель метрики ROC-AUC оказался самым высоким среди всех обученных моделей."
   ]
  },
  {
   "cell_type": "markdown",
   "metadata": {
    "id": "SOxgklRbfF2U"
   },
   "source": [
    "# Тестирование лучшей модели"
   ]
  },
  {
   "cell_type": "code",
   "execution_count": 45,
   "metadata": {
    "colab": {
     "base_uri": "https://localhost:8080/"
    },
    "id": "bQDb7nRjfF2W",
    "outputId": "1e7c5704-575a-458a-de50-b061de439b21"
   },
   "outputs": [
    {
     "name": "stdout",
     "output_type": "stream",
     "text": [
      "ROC-AUC:  0.9023730092537433\n",
      "Wall time: 28 ms\n"
     ]
    }
   ],
   "source": [
    "%%time \n",
    "\n",
    "lgbm_pred_proba_test = lgbm_grid.predict_proba(features_test_ohe)[:, 1]\n",
    "\n",
    "print('ROC-AUC: ', roc_auc_score(target_test, lgbm_pred_proba_test))"
   ]
  },
  {
   "cell_type": "markdown",
   "metadata": {
    "id": "Ywq6PSM0m-JM"
   },
   "source": [
    "# Борьба с дисбалансом классов"
   ]
  },
  {
   "cell_type": "markdown",
   "metadata": {
    "id": "FDQWIb-rlz2S"
   },
   "source": [
    "Мы не боремся с дисбалансом классов в данном случае, особенно при помощи апсемплинга, так как он приводит к утечке в сочетании с кросс-валидацией. Метрика `ROC-AUC` не чувствительна к дисбалансу, поэтому заниматься данным преобразованием нет никакого смысла."
   ]
  },
  {
   "cell_type": "markdown",
   "metadata": {
    "id": "wEe_rBi6IxiB"
   },
   "source": [
    "# Матрица ошибок и важность признаков\n",
    "\n"
   ]
  },
  {
   "cell_type": "code",
   "execution_count": 46,
   "metadata": {
    "colab": {
     "base_uri": "https://localhost:8080/",
     "height": 449
    },
    "id": "xxo91EOPJeVj",
    "outputId": "6d267af5-593f-454b-87a3-1133aea6454a"
   },
   "outputs": [
    {
     "data": {
      "image/png": "[encoded data removed]",
      "text/plain": [
       "<Figure size 640x480 with 2 Axes>"
      ]
     },
     "metadata": {},
     "output_type": "display_data"
    }
   ],
   "source": [
    "lgbm_pred = lgbm_grid.predict(features_test_ohe)\n",
    "cm = confusion_matrix(target_test, lgbm_pred, labels=lgbm_grid.classes_)\n",
    "disp = ConfusionMatrixDisplay(confusion_matrix=cm, \n",
    "                              display_labels=lgbm_grid.classes_)\n",
    "disp.plot()\n",
    "plt.show()"
   ]
  },
  {
   "cell_type": "markdown",
   "metadata": {
    "id": "H2DGraVMma6q"
   },
   "source": [
    "Из матрицы ошибок можно сделать вывод, что с ошибкой 2 рода столкнулись 95 клиентов из тестовой выборки. Также еще 16 столкнулись с ошибкой 1 рода. Модель смогла правильно спрогнозировать целевой признак у остальных клиентов из тестовой выборки."
   ]
  },
  {
   "cell_type": "code",
   "execution_count": 47,
   "metadata": {
    "colab": {
     "base_uri": "https://localhost:8080/",
     "height": 736
    },
    "id": "G1Zk35UQOaLM",
    "outputId": "40f6f841-9988-45c5-d60d-48c46e5ef17c"
   },
   "outputs": [
    {
     "data": {
      "image/png": "[encoded data removed]",
      "text/plain": [
       "<Figure size 1000x500 with 1 Axes>"
      ]
     },
     "metadata": {},
     "output_type": "display_data"
    }
   ],
   "source": [
    "importance = pd.DataFrame(lgbm_grid.best_estimator_.feature_importances_, index = features_test_ohe.columns, columns=['Важность'])\n",
    "importance = importance.sort_values(by='Важность', ascending=False)\n",
    "\n",
    "importance.plot(kind='bar', figsize=(10, 5), title='Важность признаков')\n",
    "plt.show()"
   ]
  },
  {
   "cell_type": "markdown",
   "metadata": {
    "id": "Kt7310-pfF2m"
   },
   "source": [
    "На графике видно, что созданная нами дополнительная колонка `TotalDays` оказалась самой важной. Ежемесячные платежи и общая сумма платежей тоже оказывают сильное влияние на модель. Остальные признаки имеют малую важность."
   ]
  },
  {
   "cell_type": "markdown",
   "metadata": {
    "id": "uaJ5Z9I1dHzC"
   },
   "source": [
    "# Вывод"
   ]
  },
  {
   "cell_type": "markdown",
   "metadata": {
    "id": "Oxxo7Dv0dLth"
   },
   "source": [
    "В ходе проделанной работы были выполнены следующие шаги.\n",
    "- Был составлен план проекта и его цели.\n",
    "- Загружены данные и изучены\n",
    "- Перевод форматов данных в нужный\n",
    "- Проверка на выбросы и аномалии, а так же их визуализация в виде гистограмм и диаграмм размаха\n",
    "\n",
    "Затем, на подготовленных данных было обучено 3 модели. Random Forest, LightGBM, Catboost. В ходе обучения моделей, наилучшей оказалась LightGBM. На обучающей выборке ее метрика показала значение в 0.88, в то время, как у других моделей метрика не перешла порог в 0.83.\n",
    "На тесте, модель показала себя еще лучше, и ее метрика ROC-AUC увеличилась до 0.90.\n",
    "\n",
    "Среди всех факторов, наиболее важными оказались следующие:\n",
    "1. Общее кол-во дней обслуживания\n",
    "2. Размер ежемесячных платежей\n",
    "3. Сумма всех платежей\n",
    "\n",
    "Касательно данных, были получены следущие результаты:\n",
    " - Чаще всего клиенты пользуются сотовой связью\n",
    " - Большинство клиентов - \"новые\", их сумма всех платежей не велика, как и общее кол-во дней обслуживания.\n",
    " - Дополнительные услуги пользуются малым спросом, поэтому клиенты чаще не пользуются ими."
   ]
  },
  {
   "cell_type": "markdown",
   "metadata": {},
   "source": [
    "1. План состоял из 6 пунктов, в которые входило: изучение данных, проверка на пропуски и аномалии, заполнение данных и их подготовка к анализу, визуализация данных, обучение модели, тестирование лучшей и ее анализ. В ходе работы над проектом все пункты были выполнены.\n",
    "2. Ключевыми шагами были: добавление дополнительной колонки `TotalDays`, которая повлияла на итоговую метрику в лучшую сторону и стала самым важным фактором (см график важности признаков)\n",
    "3. Наилучшей моделью стала LightGBM на кросс-валидации с перебором 2 параметров `learning_rate` и `max_depth`. Модель обучалась примерно 2 минуты на обучающих данных и ее метрика составила 0.88, что выше на 0.03 ожидаемого результата. На тесте метрика стала лучше и ее значение составило 0.90\n",
    "4. Согласно графику важности признаков можно сделать вывод, что наиболее важными оказались: `TotalDays`, `MonthlyCharges`, `TotalCharges`.\n",
    "    - `TotalDays` искусственно созданная колонка, которая оказала большое влияние на результат метрики, считалась как разница между конечным днем отчетности и первым днем клиента в компании\n",
    "    - `MonthlyCharges` и `TotalCharges` - с данными колонками были проведены работы по выявлению пропусков и аномалий. На графиках были замечены аномальные значения, но эти выбросы лишь говорят о существовании клиентов которые долго пользуются данным оператором.\n"
   ]
  }
 ],
 "metadata": {
  "ExecuteTimeLog": [
   {
    "duration": 1209,
    "start_time": "2023-04-10T13:53:22.864Z"
   },
   {
    "duration": 3,
    "start_time": "2023-04-10T13:53:28.257Z"
   },
   {
    "duration": 482,
    "start_time": "2023-04-10T13:53:33.542Z"
   },
   {
    "duration": 51,
    "start_time": "2023-04-10T13:53:35.894Z"
   },
   {
    "duration": 35,
    "start_time": "2023-04-10T13:53:40.479Z"
   },
   {
    "duration": 41,
    "start_time": "2023-04-10T13:53:41.419Z"
   },
   {
    "duration": 31,
    "start_time": "2023-04-10T13:53:44.202Z"
   },
   {
    "duration": 5,
    "start_time": "2023-04-10T13:55:25.263Z"
   },
   {
    "duration": 16,
    "start_time": "2023-04-10T13:55:31.254Z"
   },
   {
    "duration": 114,
    "start_time": "2023-04-10T13:56:00.720Z"
   },
   {
    "duration": 11,
    "start_time": "2023-04-10T13:56:02.860Z"
   },
   {
    "duration": 16,
    "start_time": "2023-04-10T13:56:07.388Z"
   },
   {
    "duration": 7,
    "start_time": "2023-04-10T13:57:03.346Z"
   },
   {
    "duration": 18,
    "start_time": "2023-04-10T13:57:19.752Z"
   },
   {
    "duration": 10,
    "start_time": "2023-04-10T13:58:55.998Z"
   },
   {
    "duration": 7,
    "start_time": "2023-04-10T13:58:56.941Z"
   },
   {
    "duration": 14,
    "start_time": "2023-04-10T13:58:58.598Z"
   },
   {
    "duration": 13,
    "start_time": "2023-04-10T13:59:00.980Z"
   },
   {
    "duration": 16,
    "start_time": "2023-04-10T13:59:03.726Z"
   },
   {
    "duration": 18,
    "start_time": "2023-04-10T13:59:14.883Z"
   },
   {
    "duration": 3014,
    "start_time": "2023-04-13T10:33:11.303Z"
   },
   {
    "duration": 6,
    "start_time": "2023-04-13T10:33:16.109Z"
   },
   {
    "duration": 944,
    "start_time": "2023-04-13T10:33:17.309Z"
   },
   {
    "duration": 35,
    "start_time": "2023-04-13T10:33:19.212Z"
   },
   {
    "duration": 25,
    "start_time": "2023-04-13T10:33:19.603Z"
   },
   {
    "duration": 42,
    "start_time": "2023-04-13T10:33:19.944Z"
   },
   {
    "duration": 21,
    "start_time": "2023-04-13T10:33:20.316Z"
   },
   {
    "duration": 5,
    "start_time": "2023-04-13T10:33:21.031Z"
   },
   {
    "duration": 7,
    "start_time": "2023-04-13T10:33:21.444Z"
   },
   {
    "duration": 9,
    "start_time": "2023-04-13T10:33:21.642Z"
   },
   {
    "duration": 10,
    "start_time": "2023-04-13T10:33:22.013Z"
   },
   {
    "duration": 6,
    "start_time": "2023-04-13T10:33:22.239Z"
   },
   {
    "duration": 15,
    "start_time": "2023-04-13T10:33:22.615Z"
   },
   {
    "duration": 14,
    "start_time": "2023-04-13T10:33:22.825Z"
   },
   {
    "duration": 14,
    "start_time": "2023-04-13T10:33:23.009Z"
   },
   {
    "duration": 19,
    "start_time": "2023-04-13T10:33:23.385Z"
   },
   {
    "duration": 17,
    "start_time": "2023-04-13T10:33:23.549Z"
   },
   {
    "duration": 13,
    "start_time": "2023-04-13T10:33:23.809Z"
   },
   {
    "duration": 5,
    "start_time": "2023-04-13T10:33:24.311Z"
   },
   {
    "duration": 13,
    "start_time": "2023-04-13T10:33:24.539Z"
   },
   {
    "duration": 6,
    "start_time": "2023-04-13T10:33:25.348Z"
   },
   {
    "duration": 163,
    "start_time": "2023-04-13T10:33:25.727Z"
   },
   {
    "duration": 3,
    "start_time": "2023-04-13T10:33:26.489Z"
   },
   {
    "duration": 2362,
    "start_time": "2023-04-13T10:33:26.797Z"
   },
   {
    "duration": 9,
    "start_time": "2023-04-13T10:33:29.161Z"
   },
   {
    "duration": 30,
    "start_time": "2023-04-13T10:33:29.172Z"
   },
   {
    "duration": 135,
    "start_time": "2023-04-13T10:33:29.204Z"
   },
   {
    "duration": 3,
    "start_time": "2023-04-13T10:33:29.340Z"
   },
   {
    "duration": 420,
    "start_time": "2023-04-13T10:33:29.344Z"
   },
   {
    "duration": 281,
    "start_time": "2023-04-13T10:33:29.766Z"
   },
   {
    "duration": 3,
    "start_time": "2023-04-13T10:33:31.701Z"
   },
   {
    "duration": 17,
    "start_time": "2023-04-13T10:33:32.034Z"
   },
   {
    "duration": 2,
    "start_time": "2023-04-13T10:33:32.311Z"
   },
   {
    "duration": 12,
    "start_time": "2023-04-13T10:33:33.401Z"
   },
   {
    "duration": 6,
    "start_time": "2023-04-13T10:33:33.635Z"
   },
   {
    "duration": 6,
    "start_time": "2023-04-13T10:33:33.938Z"
   },
   {
    "duration": 3,
    "start_time": "2023-04-13T10:33:34.305Z"
   },
   {
    "duration": 130,
    "start_time": "2023-04-13T10:33:35.413Z"
   },
   {
    "duration": 42,
    "start_time": "2023-04-13T10:33:43.403Z"
   },
   {
    "duration": 97,
    "start_time": "2023-04-13T10:34:02.633Z"
   },
   {
    "duration": 48,
    "start_time": "2023-04-13T10:34:22.096Z"
   },
   {
    "duration": 4,
    "start_time": "2023-04-13T10:34:33.100Z"
   },
   {
    "duration": 27660,
    "start_time": "2023-04-13T10:35:01.266Z"
   },
   {
    "duration": 3,
    "start_time": "2023-04-13T10:37:51.348Z"
   },
   {
    "duration": 61,
    "start_time": "2023-04-17T14:40:42.372Z"
   },
   {
    "duration": 2879,
    "start_time": "2023-04-17T19:43:49.040Z"
   },
   {
    "duration": 11,
    "start_time": "2023-04-17T19:43:51.923Z"
   },
   {
    "duration": 565,
    "start_time": "2023-04-17T19:43:51.951Z"
   },
   {
    "duration": 55,
    "start_time": "2023-04-17T19:43:53.412Z"
   },
   {
    "duration": 38,
    "start_time": "2023-04-17T19:43:53.785Z"
   },
   {
    "duration": 45,
    "start_time": "2023-04-17T19:43:54.090Z"
   },
   {
    "duration": 33,
    "start_time": "2023-04-17T19:43:54.632Z"
   },
   {
    "duration": 5,
    "start_time": "2023-04-17T19:43:55.325Z"
   },
   {
    "duration": 8,
    "start_time": "2023-04-17T19:43:55.690Z"
   },
   {
    "duration": 9,
    "start_time": "2023-04-17T19:43:55.813Z"
   },
   {
    "duration": 18,
    "start_time": "2023-04-17T19:43:56.133Z"
   },
   {
    "duration": 8,
    "start_time": "2023-04-17T19:43:56.292Z"
   },
   {
    "duration": 14,
    "start_time": "2023-04-17T19:43:56.900Z"
   },
   {
    "duration": 14,
    "start_time": "2023-04-17T19:43:57.092Z"
   },
   {
    "duration": 18,
    "start_time": "2023-04-17T19:43:57.298Z"
   },
   {
    "duration": 21,
    "start_time": "2023-04-17T19:43:57.801Z"
   },
   {
    "duration": 26,
    "start_time": "2023-04-17T19:43:57.998Z"
   },
   {
    "duration": 12,
    "start_time": "2023-04-17T19:43:58.291Z"
   },
   {
    "duration": 6,
    "start_time": "2023-04-17T19:43:58.898Z"
   },
   {
    "duration": 13,
    "start_time": "2023-04-17T19:43:59.319Z"
   },
   {
    "duration": 11,
    "start_time": "2023-04-17T19:43:59.857Z"
   },
   {
    "duration": 289,
    "start_time": "2023-04-17T19:44:00.636Z"
   },
   {
    "duration": 16,
    "start_time": "2023-04-17T19:44:00.964Z"
   },
   {
    "duration": 3455,
    "start_time": "2023-04-17T19:44:01.110Z"
   },
   {
    "duration": 13,
    "start_time": "2023-04-17T19:44:04.568Z"
   },
   {
    "duration": 31,
    "start_time": "2023-04-17T19:44:04.586Z"
   },
   {
    "duration": 170,
    "start_time": "2023-04-17T19:44:04.619Z"
   },
   {
    "duration": 5,
    "start_time": "2023-04-17T19:44:04.791Z"
   },
   {
    "duration": 616,
    "start_time": "2023-04-17T19:44:04.797Z"
   },
   {
    "duration": 389,
    "start_time": "2023-04-17T19:44:05.415Z"
   },
   {
    "duration": 5,
    "start_time": "2023-04-17T19:44:06.494Z"
   },
   {
    "duration": 23,
    "start_time": "2023-04-17T19:44:06.992Z"
   },
   {
    "duration": 7,
    "start_time": "2023-04-17T19:44:07.378Z"
   },
   {
    "duration": 17,
    "start_time": "2023-04-17T19:44:08.391Z"
   },
   {
    "duration": 10,
    "start_time": "2023-04-17T19:44:08.804Z"
   },
   {
    "duration": 8,
    "start_time": "2023-04-17T19:44:09.394Z"
   },
   {
    "duration": 4,
    "start_time": "2023-04-17T19:44:09.811Z"
   },
   {
    "duration": 189,
    "start_time": "2023-04-17T19:44:10.338Z"
   },
   {
    "duration": 82,
    "start_time": "2023-04-17T19:44:19.320Z"
   },
   {
    "duration": 161,
    "start_time": "2023-04-17T19:44:42.293Z"
   },
   {
    "duration": 85,
    "start_time": "2023-04-17T19:44:56.864Z"
   },
   {
    "duration": 4,
    "start_time": "2023-04-17T19:45:05.302Z"
   }
  ],
  "colab": {
   "collapsed_sections": [
    "F9L9fLs4QdSK"
   ],
   "provenance": [],
   "toc_visible": true
  },
  "kernelspec": {
   "display_name": "Python 3 (ipykernel)",
   "language": "python",
   "name": "python3"
  },
  "language_info": {
   "codemirror_mode": {
    "name": "ipython",
    "version": 3
   },
   "file_extension": ".py",
   "mimetype": "text/x-python",
   "name": "python",
   "nbconvert_exporter": "python",
   "pygments_lexer": "ipython3",
   "version": "3.9.13"
  },
  "toc": {
   "base_numbering": 1,
   "nav_menu": {},
   "number_sections": true,
   "sideBar": true,
   "skip_h1_title": true,
   "title_cell": "Table of Contents",
   "title_sidebar": "Contents",
   "toc_cell": false,
   "toc_position": {},
   "toc_section_display": true,
   "toc_window_display": false
  }
 },
 "nbformat": 4,
 "nbformat_minor": 1
}
